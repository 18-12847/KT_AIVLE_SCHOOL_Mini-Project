{
 "cells": [
  {
   "cell_type": "code",
   "execution_count": 172,
   "id": "1cc7de55",
   "metadata": {},
   "outputs": [],
   "source": [
    "# 필요한 라이브러리 설치 및 임포트\n",
    "# !pip install pandas\n",
    "import pandas as pd\n",
    "import datetime\n",
    "import numpy as np"
   ]
  },
  {
   "cell_type": "markdown",
   "id": "74c09d16",
   "metadata": {},
   "source": [
    "---"
   ]
  },
  {
   "cell_type": "markdown",
   "id": "523282a7-ca7a-43ae-8517-f6065875c0f6",
   "metadata": {},
   "source": [
    "# [Step 2] 데이터 전처리"
   ]
  },
  {
   "cell_type": "markdown",
   "id": "a9675ead-bf03-4ccf-a0b5-c7d0695f152d",
   "metadata": {},
   "source": [
    "#### **<span style=\"color:blue\">[2-0] air_21, air_22, weather_21, weather_22 데이터 로딩</span>**"
   ]
  },
  {
   "cell_type": "code",
   "execution_count": 245,
   "id": "b238b905-05f2-4316-b85f-b35fdb6ec2ab",
   "metadata": {},
   "outputs": [],
   "source": [
    "air_21 = pd.read_csv(\"air_2021.csv\", sep = \",\", index_col = 0, encoding = \"utf-8\")\n",
    "air_22 = pd.read_csv(\"air_2022.csv\", sep = \",\", index_col = 0, encoding = \"utf-8\")"
   ]
  },
  {
   "cell_type": "code",
   "execution_count": 246,
   "id": "0d0a5978-2dcc-4449-be75-d022b6b65b4b",
   "metadata": {},
   "outputs": [],
   "source": [
    "weather_21 = pd.read_csv(\"weather_2021.csv\", sep = \",\", encoding = \"cp949\")\n",
    "weather_22 = pd.read_csv(\"weather_2022.csv\", sep = \",\", encoding = \"cp949\")"
   ]
  },
  {
   "cell_type": "markdown",
   "id": "d70c511d-40a7-40e0-a174-6832252ce2f2",
   "metadata": {
    "tags": []
   },
   "source": [
    "#### **<span style=\"color:blue\">[2-1] air_21, air_22 의 '측정일시'를 활용하여 'time' 변수 생성</span>**"
   ]
  },
  {
   "cell_type": "markdown",
   "id": "c260e7e5",
   "metadata": {},
   "source": [
    "* air_21, air_22 의 '측정일시'를 활용하여 'time'변수 생성\n",
    "* time 변수를 to_datetime으로 데이터 타입 변경\n",
    "* 참고: 미세먼지 데이터는 1시-24시, 날씨 데이터는 0시-23시로 구성되어 있습니다. [2-5]에서 미세먼지와 날씨 데이터를 time 기준으로 합치려면 날씨 기준이 동일해야 합니다. 미세먼지 데이터에서 time 변수 생성 시 이를 미리 고려(예:측정일시 값 -1)하세요."
   ]
  },
  {
   "cell_type": "code",
   "execution_count": 247,
   "id": "032a9ef2-282d-48e7-ad0a-6736f6cea5b1",
   "metadata": {},
   "outputs": [],
   "source": [
    "air_21.drop([\"지역\", \"망\", \"측정소코드\", \"주소\", \"측정소명\"], axis = 1, inplace = True)"
   ]
  },
  {
   "cell_type": "code",
   "execution_count": 248,
   "id": "97493210-a7cf-46f9-b4dc-2ca7580a1abd",
   "metadata": {},
   "outputs": [],
   "source": [
    "air_21[\"time\"] = pd.to_datetime(air_21[\"측정일시\"] - 1, format = \"%Y%m%d%H\")"
   ]
  },
  {
   "cell_type": "code",
   "execution_count": 213,
   "id": "d5f03243-8dbb-4835-a412-350818094188",
   "metadata": {
    "tags": []
   },
   "outputs": [
    {
     "name": "stdout",
     "output_type": "stream",
     "text": [
      "<class 'pandas.core.frame.DataFrame'>\n",
      "Int64Index: 8760 entries, 0 to 8759\n",
      "Data columns (total 8 columns):\n",
      " #   Column  Non-Null Count  Dtype         \n",
      "---  ------  --------------  -----         \n",
      " 0   측정일시    8760 non-null   int64         \n",
      " 1   SO2     8648 non-null   float64       \n",
      " 2   CO      8680 non-null   float64       \n",
      " 3   O3      8663 non-null   float64       \n",
      " 4   NO2     8680 non-null   float64       \n",
      " 5   PM10    8655 non-null   float64       \n",
      " 6   PM25    8663 non-null   float64       \n",
      " 7   time    8760 non-null   datetime64[ns]\n",
      "dtypes: datetime64[ns](1), float64(6), int64(1)\n",
      "memory usage: 615.9 KB\n"
     ]
    }
   ],
   "source": [
    "air_21.info()"
   ]
  },
  {
   "cell_type": "code",
   "execution_count": 249,
   "id": "c5bee0ee-9a2d-4d11-9342-d782ed97fb80",
   "metadata": {},
   "outputs": [],
   "source": [
    "air_22.drop([\"지역\", \"망\", \"측정소코드\", \"주소\", \"측정소명\"], axis = 1, inplace = True)\n",
    "air_22[\"time\"] = pd.to_datetime(air_22[\"측정일시\"] - 1, format = \"%Y%m%d%H\")"
   ]
  },
  {
   "cell_type": "markdown",
   "id": "5b72e3b6-998b-4b4c-b009-4ac6a852e8b5",
   "metadata": {},
   "source": [
    "---"
   ]
  },
  {
   "cell_type": "markdown",
   "id": "05f59d95-1d33-467b-ac90-e3c80c2b32d4",
   "metadata": {
    "tags": []
   },
   "source": [
    "#### **<span style=\"color:blue\">[2-2] weather_21, weather_22 의 '일시'를 활용하여 'time' 변수 생성</span>**"
   ]
  },
  {
   "cell_type": "markdown",
   "id": "romantic-johnson",
   "metadata": {},
   "source": [
    "* weather_21, weather_22 의 '일시'를 활용하여 'time'변수 생성\n",
    "* time 변수를 to_datetime으로 데이터 타입 변경"
   ]
  },
  {
   "cell_type": "code",
   "execution_count": 250,
   "id": "bfed1fb6-1e79-4513-b6c2-38326f2d00c2",
   "metadata": {
    "tags": []
   },
   "outputs": [],
   "source": [
    "weather_21[\"time\"] = pd.to_datetime(weather_21[\"일시\"])\n",
    "weather_22[\"time\"] = pd.to_datetime(weather_22[\"일시\"])"
   ]
  },
  {
   "cell_type": "markdown",
   "id": "ef9eb7b0",
   "metadata": {},
   "source": [
    "---"
   ]
  },
  {
   "cell_type": "markdown",
   "id": "4711af88-7642-493a-8df2-116bfbe87420",
   "metadata": {
    "tags": []
   },
   "source": [
    "#### **<span style=\"color:blue\">[2-3] 'time' 기준으로 데이터 합치기</span>**"
   ]
  },
  {
   "cell_type": "markdown",
   "id": "lyric-response",
   "metadata": {},
   "source": [
    "* 미세먼지 데이터와 날씨 데이터를 'time' 기준으로 합쳐보세요.\n",
    "* df_21에는 'time' 기준으로 21년도 미세먼지, 날씨 데이터를 합쳐보세요.\n",
    "* df_22에는 'time' 기준으로 22년도 미세먼지, 날씨 데이터를 합쳐보세요."
   ]
  },
  {
   "cell_type": "code",
   "execution_count": 344,
   "id": "bf0e76de-460f-42e0-b023-09421af3be70",
   "metadata": {
    "tags": []
   },
   "outputs": [],
   "source": [
    "# 아래에 필요한 코드를 작성하고 결과를 확인합니다.\n",
    "df_21 = pd.merge(air_21, weather_21, on = \"time\")"
   ]
  },
  {
   "cell_type": "code",
   "execution_count": 345,
   "id": "f9c23cd9-8d06-4631-8e75-6d1437ef69de",
   "metadata": {},
   "outputs": [],
   "source": [
    "# 아래에 필요한 코드를 작성하고 결과를 확인합니다.\n",
    "df_22 = pd.merge(air_22, weather_22, on = \"time\")"
   ]
  },
  {
   "cell_type": "markdown",
   "id": "87ee6f70-17e3-4611-a776-920c2c714ab7",
   "metadata": {},
   "source": [
    "---"
   ]
  },
  {
   "cell_type": "markdown",
   "id": "1a56911f-dc08-40e1-b456-6b5a6fdd4ce3",
   "metadata": {
    "tags": []
   },
   "source": [
    "#### **<span style=\"color:blue\">[2-4] 사용하지 않을 변수 제거</span>**"
   ]
  },
  {
   "cell_type": "markdown",
   "id": "8a3e52e4",
   "metadata": {},
   "source": [
    "* 머신러닝에 사용하지 않을 변수들을 제거해줍니다.\n",
    "* df_21, df_22에 사용할 변수들만 넣어보세요."
   ]
  },
  {
   "cell_type": "code",
   "execution_count": 346,
   "id": "ddf39400",
   "metadata": {},
   "outputs": [],
   "source": [
    "# df_21, df_22에 사용할 변수들만 할당\n",
    "df_21.drop([\"기온 QC플래그\", \"지면온도 QC플래그\", \"지면상태(지면상태코드)\", \"3시간신적설(cm)\", \"적설(cm)\", \n",
    "            \"해면기압 QC플래그\", \"현지기압 QC플래그\", \"습도 QC플래그\", \"풍향 QC플래그\", \"풍속 QC플래그\",\n",
    "           \"강수량 QC플래그\", \"일조(hr)\", \"일조 QC플래그\", \"일사(MJ/m2)\", \"일사 QC플래그\", \"운형(운형약어)\",\n",
    "            \"최저운고(100m )\", \"현상번호(국내식)\", \"측정일시\"], axis = 1, inplace = True)"
   ]
  },
  {
   "cell_type": "code",
   "execution_count": 347,
   "id": "f079f939-83ef-4868-90b6-8d820736ae6f",
   "metadata": {
    "tags": []
   },
   "outputs": [],
   "source": [
    "# time 변수를 index로 세팅\n",
    "df_21 = df_21.set_index(\"time\")"
   ]
  },
  {
   "cell_type": "code",
   "execution_count": 329,
   "id": "2d7de09e-b339-4f86-a575-0eb37b09f78c",
   "metadata": {
    "collapsed": true,
    "jupyter": {
     "outputs_hidden": true
    },
    "tags": []
   },
   "outputs": [
    {
     "name": "stdout",
     "output_type": "stream",
     "text": [
      "<class 'pandas.core.frame.DataFrame'>\n",
      "DatetimeIndex: 8759 entries, 2021-10-01 00:00:00 to 2021-09-30 23:00:00\n",
      "Data columns (total 31 columns):\n",
      " #   Column         Non-Null Count  Dtype  \n",
      "---  ------         --------------  -----  \n",
      " 0   SO2            8759 non-null   float64\n",
      " 1   CO             8759 non-null   float64\n",
      " 2   O3             8759 non-null   float64\n",
      " 3   NO2            8759 non-null   float64\n",
      " 4   PM10           8759 non-null   float64\n",
      " 5   PM25           8759 non-null   float64\n",
      " 6   지점             8759 non-null   int64  \n",
      " 7   지점명            8759 non-null   object \n",
      " 8   일시             8759 non-null   object \n",
      " 9   기온(°C)         8759 non-null   float64\n",
      " 10  강수량(mm)        8759 non-null   float64\n",
      " 11  풍속(m/s)        8759 non-null   float64\n",
      " 12  풍향(16방위)       8759 non-null   float64\n",
      " 13  습도(%)          8759 non-null   int64  \n",
      " 14  증기압(hPa)       8759 non-null   float64\n",
      " 15  이슬점온도(°C)      8759 non-null   float64\n",
      " 16  현지기압(hPa)      8759 non-null   float64\n",
      " 17  해면기압(hPa)      8759 non-null   float64\n",
      " 18  전운량(10분위)      8759 non-null   float64\n",
      " 19  중하층운량(10분위)    8759 non-null   int64  \n",
      " 20  시정(10m)        8759 non-null   int64  \n",
      " 21  지면온도(°C)       8759 non-null   float64\n",
      " 22  5cm 지중온도(°C)   8759 non-null   float64\n",
      " 23  10cm 지중온도(°C)  8759 non-null   float64\n",
      " 24  20cm 지중온도(°C)  8759 non-null   float64\n",
      " 25  30cm 지중온도(°C)  8759 non-null   float64\n",
      " 26  month          8759 non-null   int64  \n",
      " 27  day            8759 non-null   int64  \n",
      " 28  hour           8759 non-null   int64  \n",
      " 29  PM10_lag1      8759 non-null   float64\n",
      " 30  PM10_1         8759 non-null   float64\n",
      "dtypes: float64(22), int64(7), object(2)\n",
      "memory usage: 2.4+ MB\n"
     ]
    }
   ],
   "source": [
    "df_21.info()"
   ]
  },
  {
   "cell_type": "code",
   "execution_count": 348,
   "id": "d0e62658-8876-49ee-b1ab-64c851c1d2ca",
   "metadata": {},
   "outputs": [],
   "source": [
    "df_21.drop([\"지점\", \"지점명\"], axis = 1, inplace = True)"
   ]
  },
  {
   "cell_type": "code",
   "execution_count": 349,
   "id": "b173ff77-b177-493d-919d-911eca5d8898",
   "metadata": {},
   "outputs": [],
   "source": [
    "df_21.drop(\"일시\", axis = 1, inplace = True)"
   ]
  },
  {
   "cell_type": "code",
   "execution_count": 337,
   "id": "fc3ff7ec-01f4-448a-a1b2-de28c8ff6844",
   "metadata": {
    "collapsed": true,
    "jupyter": {
     "outputs_hidden": true
    },
    "tags": []
   },
   "outputs": [
    {
     "name": "stdout",
     "output_type": "stream",
     "text": [
      "<class 'pandas.core.frame.DataFrame'>\n",
      "DatetimeIndex: 8759 entries, 2021-10-01 00:00:00 to 2021-09-30 23:00:00\n",
      "Data columns (total 28 columns):\n",
      " #   Column         Non-Null Count  Dtype  \n",
      "---  ------         --------------  -----  \n",
      " 0   SO2            8759 non-null   float64\n",
      " 1   CO             8759 non-null   float64\n",
      " 2   O3             8759 non-null   float64\n",
      " 3   NO2            8759 non-null   float64\n",
      " 4   PM10           8759 non-null   float64\n",
      " 5   PM25           8759 non-null   float64\n",
      " 6   기온(°C)         8759 non-null   float64\n",
      " 7   강수량(mm)        8759 non-null   float64\n",
      " 8   풍속(m/s)        8759 non-null   float64\n",
      " 9   풍향(16방위)       8759 non-null   float64\n",
      " 10  습도(%)          8759 non-null   int64  \n",
      " 11  증기압(hPa)       8759 non-null   float64\n",
      " 12  이슬점온도(°C)      8759 non-null   float64\n",
      " 13  현지기압(hPa)      8759 non-null   float64\n",
      " 14  해면기압(hPa)      8759 non-null   float64\n",
      " 15  전운량(10분위)      8759 non-null   float64\n",
      " 16  중하층운량(10분위)    8759 non-null   int64  \n",
      " 17  시정(10m)        8759 non-null   int64  \n",
      " 18  지면온도(°C)       8759 non-null   float64\n",
      " 19  5cm 지중온도(°C)   8759 non-null   float64\n",
      " 20  10cm 지중온도(°C)  8759 non-null   float64\n",
      " 21  20cm 지중온도(°C)  8759 non-null   float64\n",
      " 22  30cm 지중온도(°C)  8759 non-null   float64\n",
      " 23  month          8759 non-null   int64  \n",
      " 24  day            8759 non-null   int64  \n",
      " 25  hour           8759 non-null   int64  \n",
      " 26  PM10_lag1      8759 non-null   float64\n",
      " 27  PM10_1         8759 non-null   float64\n",
      "dtypes: float64(22), int64(6)\n",
      "memory usage: 2.2 MB\n"
     ]
    }
   ],
   "source": [
    "df_21.info()"
   ]
  },
  {
   "cell_type": "code",
   "execution_count": 350,
   "id": "4a25dae2-bfbf-4c93-9730-b66390209106",
   "metadata": {},
   "outputs": [],
   "source": [
    "df_22.drop([\"지점\", \"지점명\", \"일시\"], axis = 1, inplace = True)"
   ]
  },
  {
   "cell_type": "code",
   "execution_count": 339,
   "id": "6b0f1047-f0bb-4b23-b300-dc8bcf972660",
   "metadata": {
    "collapsed": true,
    "jupyter": {
     "outputs_hidden": true
    },
    "tags": []
   },
   "outputs": [
    {
     "name": "stdout",
     "output_type": "stream",
     "text": [
      "<class 'pandas.core.frame.DataFrame'>\n",
      "DatetimeIndex: 2160 entries, 2022-01-01 00:00:00 to 2022-03-31 23:00:00\n",
      "Data columns (total 28 columns):\n",
      " #   Column         Non-Null Count  Dtype  \n",
      "---  ------         --------------  -----  \n",
      " 0   SO2            2160 non-null   float64\n",
      " 1   CO             2160 non-null   float64\n",
      " 2   O3             2160 non-null   float64\n",
      " 3   NO2            2160 non-null   float64\n",
      " 4   PM10           2160 non-null   float64\n",
      " 5   PM25           2160 non-null   float64\n",
      " 6   기온(°C)         2160 non-null   float64\n",
      " 7   강수량(mm)        2160 non-null   float64\n",
      " 8   풍속(m/s)        2160 non-null   float64\n",
      " 9   풍향(16방위)       2160 non-null   int64  \n",
      " 10  습도(%)          2160 non-null   int64  \n",
      " 11  증기압(hPa)       2160 non-null   float64\n",
      " 12  이슬점온도(°C)      2160 non-null   float64\n",
      " 13  현지기압(hPa)      2160 non-null   float64\n",
      " 14  해면기압(hPa)      2160 non-null   float64\n",
      " 15  전운량(10분위)      2160 non-null   int64  \n",
      " 16  중하층운량(10분위)    2160 non-null   int64  \n",
      " 17  시정(10m)        2160 non-null   int64  \n",
      " 18  지면온도(°C)       2160 non-null   float64\n",
      " 19  5cm 지중온도(°C)   2160 non-null   float64\n",
      " 20  10cm 지중온도(°C)  2160 non-null   float64\n",
      " 21  20cm 지중온도(°C)  2160 non-null   float64\n",
      " 22  30cm 지중온도(°C)  2160 non-null   float64\n",
      " 23  month          2160 non-null   int64  \n",
      " 24  day            2160 non-null   int64  \n",
      " 25  hour           2160 non-null   int64  \n",
      " 26  PM10_lag1      2160 non-null   float64\n",
      " 27  PM10_1         2160 non-null   float64\n",
      "dtypes: float64(20), int64(8)\n",
      "memory usage: 489.4 KB\n"
     ]
    }
   ],
   "source": [
    "df_22.info()"
   ]
  },
  {
   "cell_type": "markdown",
   "id": "d227338e-eb0d-44e3-b847-c2f95287dab8",
   "metadata": {
    "tags": []
   },
   "source": [
    "#### **<span style=\"color:blue\">[2-5] 변수들의 결측치 처리</span>**(df_21)"
   ]
  },
  {
   "cell_type": "code",
   "execution_count": 351,
   "id": "d5ceccfc",
   "metadata": {},
   "outputs": [],
   "source": [
    "# df_21, df_22의 변수 중 '강수량(mm)'의 결측치를 처리\n",
    "df_21[\"강수량(mm)\"].fillna(0, inplace = True)"
   ]
  },
  {
   "cell_type": "code",
   "execution_count": 352,
   "id": "e3bd1706",
   "metadata": {},
   "outputs": [],
   "source": [
    "# df_21, df_22의 남은 결측치를 처리\n",
    "df_21[\"지면온도(°C)\"].fillna(df_21[\"지면온도(°C)\"].mean(), inplace = True)\n",
    "df_21[\"5cm 지중온도(°C)\"].fillna(df_21[\"5cm 지중온도(°C)\"].mean(), inplace = True)\n",
    "df_21[\"10cm 지중온도(°C)\"].fillna(df_21[\"10cm 지중온도(°C)\"].mean(), inplace = True)\n",
    "df_21[\"20cm 지중온도(°C)\"].fillna(df_21[\"20cm 지중온도(°C)\"].mean(), inplace = True)\n",
    "df_21[\"30cm 지중온도(°C)\"].fillna(df_21[\"30cm 지중온도(°C)\"].mean(), inplace = True)\n",
    "df_21[\"SO2\"].fillna(df_21[\"SO2\"].mean(), inplace = True)\n",
    "df_21[\"CO\"].fillna(df_21[\"CO\"].mean(), inplace = True)\n",
    "df_21[\"O3\"].fillna(df_21[\"O3\"].mean(), inplace = True)\n",
    "df_21[\"NO2\"].fillna(df_21[\"NO2\"].mean(), inplace = True)\n",
    "df_21[\"PM25\"].fillna(df_21[\"PM25\"].mean(), inplace = True)\n",
    "df_21[\"풍속(m/s)\"].fillna(df_21[\"풍속(m/s)\"].mean(), inplace = True)"
   ]
  },
  {
   "cell_type": "code",
   "execution_count": 269,
   "id": "0d053510-81c7-4df7-b22e-0aa0d4bfa46d",
   "metadata": {
    "tags": []
   },
   "outputs": [
    {
     "data": {
      "text/plain": [
       "50.0     1656\n",
       "270.0    1350\n",
       "70.0      880\n",
       "250.0     804\n",
       "290.0     763\n",
       "20.0      543\n",
       "200.0     531\n",
       "230.0     429\n",
       "320.0     277\n",
       "90.0      257\n",
       "180.0     252\n",
       "110.0     223\n",
       "0.0       181\n",
       "360.0     171\n",
       "340.0     156\n",
       "140.0     145\n",
       "160.0     139\n",
       "Name: 풍향(16방위), dtype: int64"
      ]
     },
     "execution_count": 269,
     "metadata": {},
     "output_type": "execute_result"
    }
   ],
   "source": [
    "df_21[\"풍향(16방위)\"].value_counts(dropna = True)"
   ]
  },
  {
   "cell_type": "code",
   "execution_count": 353,
   "id": "c9471d45-8251-4f51-a07b-d28b25f80b39",
   "metadata": {},
   "outputs": [],
   "source": [
    "df_21[\"풍향(16방위)\"].fillna(50.0, inplace = True)"
   ]
  },
  {
   "cell_type": "code",
   "execution_count": 271,
   "id": "9451f12f-1b3c-4158-9fc5-a97b342755da",
   "metadata": {
    "tags": []
   },
   "outputs": [
    {
     "data": {
      "text/plain": [
       "0.0     2404\n",
       "10.0    1458\n",
       "9.0      952\n",
       "8.0      895\n",
       "7.0      663\n",
       "6.0      517\n",
       "1.0      449\n",
       "4.0      366\n",
       "3.0      364\n",
       "2.0      354\n",
       "5.0      335\n",
       "Name: 전운량(10분위), dtype: int64"
      ]
     },
     "execution_count": 271,
     "metadata": {},
     "output_type": "execute_result"
    }
   ],
   "source": [
    "df_21[\"전운량(10분위)\"].value_counts(dropna = True)"
   ]
  },
  {
   "cell_type": "code",
   "execution_count": 354,
   "id": "e15191b1-6082-45e1-8e3a-dd90966cf0a4",
   "metadata": {},
   "outputs": [],
   "source": [
    "df_21[\"전운량(10분위)\"].fillna(0.0, inplace = True)"
   ]
  },
  {
   "cell_type": "code",
   "execution_count": 355,
   "id": "240107c1-9fa5-4da7-89e7-f5a61cbcde49",
   "metadata": {},
   "outputs": [],
   "source": [
    "df_21[\"PM10\"].fillna(method = \"ffill\", inplace = True)"
   ]
  },
  {
   "cell_type": "code",
   "execution_count": 356,
   "id": "bb02fc58-dba1-45e4-ae06-948cb47dceec",
   "metadata": {
    "tags": []
   },
   "outputs": [
    {
     "data": {
      "text/plain": [
       "SO2              0\n",
       "CO               0\n",
       "O3               0\n",
       "NO2              0\n",
       "PM10             0\n",
       "PM25             0\n",
       "기온(°C)           0\n",
       "강수량(mm)          0\n",
       "풍속(m/s)          0\n",
       "풍향(16방위)         0\n",
       "습도(%)            0\n",
       "증기압(hPa)         0\n",
       "이슬점온도(°C)        0\n",
       "현지기압(hPa)        0\n",
       "해면기압(hPa)        0\n",
       "전운량(10분위)        0\n",
       "중하층운량(10분위)      0\n",
       "시정(10m)          0\n",
       "지면온도(°C)         0\n",
       "5cm 지중온도(°C)     0\n",
       "10cm 지중온도(°C)    0\n",
       "20cm 지중온도(°C)    0\n",
       "30cm 지중온도(°C)    0\n",
       "dtype: int64"
      ]
     },
     "execution_count": 356,
     "metadata": {},
     "output_type": "execute_result"
    }
   ],
   "source": [
    "df_21.isnull().sum()"
   ]
  },
  {
   "cell_type": "markdown",
   "id": "ba0fae2c-6995-4e95-9226-3adbae6a429e",
   "metadata": {
    "tags": []
   },
   "source": [
    "#### **<span style=\"color:blue\">[2-5] 변수들의 결측치 처리</span>**(df_22)"
   ]
  },
  {
   "cell_type": "code",
   "execution_count": 357,
   "id": "014f3bc0-2017-40d8-927a-1dae32442a16",
   "metadata": {},
   "outputs": [],
   "source": [
    "# df_21, df_22에 사용할 변수들만 할당\n",
    "df_22.drop([\"기온 QC플래그\", \"지면온도 QC플래그\", \"지면상태(지면상태코드)\", \"3시간신적설(cm)\", \"적설(cm)\", \n",
    "            \"해면기압 QC플래그\", \"현지기압 QC플래그\", \"습도 QC플래그\", \"풍향 QC플래그\", \"풍속 QC플래그\",\n",
    "           \"강수량 QC플래그\", \"일조(hr)\", \"일조 QC플래그\", \"일사(MJ/m2)\", \"일사 QC플래그\", \"운형(운형약어)\",\n",
    "            \"최저운고(100m )\", \"현상번호(국내식)\", \"측정일시\"], axis = 1, inplace = True)"
   ]
  },
  {
   "cell_type": "code",
   "execution_count": 358,
   "id": "9f8fa1c9-6824-4e0b-922d-b281b021e43d",
   "metadata": {
    "tags": []
   },
   "outputs": [],
   "source": [
    "# time 변수를 index로 세팅\n",
    "df_22 = df_22.set_index(\"time\")"
   ]
  },
  {
   "cell_type": "code",
   "execution_count": 284,
   "id": "a1a2a1af-0cbe-4947-835f-971b50aa437c",
   "metadata": {
    "tags": []
   },
   "outputs": [
    {
     "name": "stdout",
     "output_type": "stream",
     "text": [
      "<class 'pandas.core.frame.DataFrame'>\n",
      "DatetimeIndex: 2160 entries, 2022-01-01 00:00:00 to 2022-03-31 23:00:00\n",
      "Data columns (total 26 columns):\n",
      " #   Column         Non-Null Count  Dtype  \n",
      "---  ------         --------------  -----  \n",
      " 0   SO2            2139 non-null   float64\n",
      " 1   CO             2139 non-null   float64\n",
      " 2   O3             2139 non-null   float64\n",
      " 3   NO2            2139 non-null   float64\n",
      " 4   PM10           2122 non-null   float64\n",
      " 5   PM25           2135 non-null   float64\n",
      " 6   지점             2160 non-null   int64  \n",
      " 7   지점명            2160 non-null   object \n",
      " 8   일시             2160 non-null   object \n",
      " 9   기온(°C)         2160 non-null   float64\n",
      " 10  강수량(mm)        81 non-null     float64\n",
      " 11  풍속(m/s)        2160 non-null   float64\n",
      " 12  풍향(16방위)       2160 non-null   int64  \n",
      " 13  습도(%)          2160 non-null   int64  \n",
      " 14  증기압(hPa)       2160 non-null   float64\n",
      " 15  이슬점온도(°C)      2160 non-null   float64\n",
      " 16  현지기압(hPa)      2160 non-null   float64\n",
      " 17  해면기압(hPa)      2160 non-null   float64\n",
      " 18  전운량(10분위)      2160 non-null   int64  \n",
      " 19  중하층운량(10분위)    2160 non-null   int64  \n",
      " 20  시정(10m)        2160 non-null   int64  \n",
      " 21  지면온도(°C)       2160 non-null   float64\n",
      " 22  5cm 지중온도(°C)   2160 non-null   float64\n",
      " 23  10cm 지중온도(°C)  2160 non-null   float64\n",
      " 24  20cm 지중온도(°C)  2160 non-null   float64\n",
      " 25  30cm 지중온도(°C)  2160 non-null   float64\n",
      "dtypes: float64(18), int64(6), object(2)\n",
      "memory usage: 455.6+ KB\n"
     ]
    }
   ],
   "source": [
    "df_22.info()"
   ]
  },
  {
   "cell_type": "code",
   "execution_count": 285,
   "id": "5f1d9704-0ac7-492c-a432-1513fb453b10",
   "metadata": {
    "tags": []
   },
   "outputs": [
    {
     "data": {
      "text/plain": [
       "SO2                21\n",
       "CO                 21\n",
       "O3                 21\n",
       "NO2                21\n",
       "PM10               38\n",
       "PM25               25\n",
       "지점                  0\n",
       "지점명                 0\n",
       "일시                  0\n",
       "기온(°C)              0\n",
       "강수량(mm)          2079\n",
       "풍속(m/s)             0\n",
       "풍향(16방위)            0\n",
       "습도(%)               0\n",
       "증기압(hPa)            0\n",
       "이슬점온도(°C)           0\n",
       "현지기압(hPa)           0\n",
       "해면기압(hPa)           0\n",
       "전운량(10분위)           0\n",
       "중하층운량(10분위)         0\n",
       "시정(10m)             0\n",
       "지면온도(°C)            0\n",
       "5cm 지중온도(°C)        0\n",
       "10cm 지중온도(°C)       0\n",
       "20cm 지중온도(°C)       0\n",
       "30cm 지중온도(°C)       0\n",
       "dtype: int64"
      ]
     },
     "execution_count": 285,
     "metadata": {},
     "output_type": "execute_result"
    }
   ],
   "source": [
    "df_22.isnull().sum()"
   ]
  },
  {
   "cell_type": "markdown",
   "id": "756db3d4-b2cb-4c68-b258-cfb70f8bd232",
   "metadata": {},
   "source": [
    "---"
   ]
  },
  {
   "cell_type": "markdown",
   "id": "c27d9ecd-29e3-4744-8dd6-8da802b9b2cd",
   "metadata": {
    "tags": []
   },
   "source": [
    "#### **<span style=\"color:blue\">[2-5] 변수들의 결측치 처리</span>**"
   ]
  },
  {
   "cell_type": "code",
   "execution_count": 359,
   "id": "756ce14d-6411-489d-acd0-3ae6d564f25e",
   "metadata": {},
   "outputs": [],
   "source": [
    "# df_21, df_22의 변수 중 '강수량(mm)'의 결측치를 처리\n",
    "df_22[\"강수량(mm)\"].fillna(0, inplace = True)"
   ]
  },
  {
   "cell_type": "code",
   "execution_count": 360,
   "id": "1a283f55-ecb1-46cd-ba02-9f2defe74b7f",
   "metadata": {},
   "outputs": [],
   "source": [
    "# df_21, df_22의 남은 결측치를 처리\n",
    "df_22[\"SO2\"].fillna(df_22[\"SO2\"].mean(), inplace = True)\n",
    "df_22[\"CO\"].fillna(df_22[\"CO\"].mean(), inplace = True)\n",
    "df_22[\"O3\"].fillna(df_22[\"O3\"].mean(), inplace = True)\n",
    "df_22[\"NO2\"].fillna(df_22[\"NO2\"].mean(), inplace = True)\n",
    "df_22[\"PM25\"].fillna(df_22[\"PM25\"].mean(), inplace = True)"
   ]
  },
  {
   "cell_type": "code",
   "execution_count": 361,
   "id": "cb8be55f-8a13-42c6-b95e-97ed5fdd69ae",
   "metadata": {},
   "outputs": [],
   "source": [
    "df_22[\"PM10\"].fillna(method = \"ffill\", inplace = True)"
   ]
  },
  {
   "cell_type": "code",
   "execution_count": 362,
   "id": "d9de4ac8-7803-4f1c-853d-fa00951aa2d3",
   "metadata": {
    "tags": []
   },
   "outputs": [
    {
     "data": {
      "text/plain": [
       "SO2              0\n",
       "CO               0\n",
       "O3               0\n",
       "NO2              0\n",
       "PM10             0\n",
       "PM25             0\n",
       "기온(°C)           0\n",
       "강수량(mm)          0\n",
       "풍속(m/s)          0\n",
       "풍향(16방위)         0\n",
       "습도(%)            0\n",
       "증기압(hPa)         0\n",
       "이슬점온도(°C)        0\n",
       "현지기압(hPa)        0\n",
       "해면기압(hPa)        0\n",
       "전운량(10분위)        0\n",
       "중하층운량(10분위)      0\n",
       "시정(10m)          0\n",
       "지면온도(°C)         0\n",
       "5cm 지중온도(°C)     0\n",
       "10cm 지중온도(°C)    0\n",
       "20cm 지중온도(°C)    0\n",
       "30cm 지중온도(°C)    0\n",
       "dtype: int64"
      ]
     },
     "execution_count": 362,
     "metadata": {},
     "output_type": "execute_result"
    }
   ],
   "source": [
    "df_22.isnull().sum()"
   ]
  },
  {
   "cell_type": "markdown",
   "id": "a8a1db4e-ea4f-4413-8014-1a5b739447c6",
   "metadata": {},
   "source": [
    "---"
   ]
  },
  {
   "cell_type": "markdown",
   "id": "93af2c25-f60b-48d0-8e19-9b271ec48250",
   "metadata": {
    "tags": []
   },
   "source": [
    "#### **<span style=\"color:blue\">[2-6] 전일 같은 시간 변수 추가</span>**"
   ]
  },
  {
   "cell_type": "markdown",
   "id": "2f787390-85b9-4bdd-9ac8-551bdcd18a9b",
   "metadata": {},
   "source": [
    "* 모델링에 유용한 변수로 전일 같은 시간(24시간 전) 미세먼지 농도 변수를 추가합니다. \n",
    "* 시계열 데이터 처리를 위한 shift 연산을 참고하세요."
   ]
  },
  {
   "cell_type": "code",
   "execution_count": 363,
   "id": "c095d7b0",
   "metadata": {},
   "outputs": [],
   "source": [
    "# df_21, df_22의 index(time)를 month, day, hour 로 쪼개기 (year는 필요 없음)\n",
    "df_21[\"month\"] = df_21.index.month\n",
    "df_21[\"day\"] = df_21.index.day\n",
    "df_21[\"hour\"] = df_21.index.hour\n",
    "df_22[\"month\"] = df_22.index.month\n",
    "df_22[\"day\"] = df_22.index.day\n",
    "df_22[\"hour\"] = df_22.index.hour"
   ]
  },
  {
   "cell_type": "code",
   "execution_count": 364,
   "id": "4573f5f8",
   "metadata": {},
   "outputs": [],
   "source": [
    "# df_21, df_22에 전일 같은 시간 미세먼지 농도 변수(PM10_lag1) 추가\n",
    "# 전일 같은 시간은 24시간 전 입니다.\n",
    "df_21[\"PM10_lag1\"] = df_21[\"PM10\"].shift(24)\n",
    "df_22[\"PM10_lag1\"] = df_22[\"PM10\"].shift(24)"
   ]
  },
  {
   "cell_type": "markdown",
   "id": "f5a1aef0-31d8-4c20-81ad-b2825081a975",
   "metadata": {},
   "source": [
    "---"
   ]
  },
  {
   "cell_type": "markdown",
   "id": "ff52b9e7-869c-41c9-8aea-817ec00d5200",
   "metadata": {
    "tags": []
   },
   "source": [
    "#### **<span style=\"color:blue\">[2-7] t+1 시점의 미세먼지 농도 데이터 생성</span>**"
   ]
  },
  {
   "cell_type": "markdown",
   "id": "6deef340",
   "metadata": {},
   "source": [
    "* t+1 시점은 1시간 후 입니다.\n",
    "* t+1 시점의 미세먼지 농도 변수를 생성하세요.\n",
    "* t+1 시점의 미세먼지 농도는 머신러닝 모델을 통해 예측하려는 y값(target) 입니다."
   ]
  },
  {
   "cell_type": "code",
   "execution_count": 365,
   "id": "b14b9b60",
   "metadata": {
    "tags": []
   },
   "outputs": [
    {
     "data": {
      "text/plain": [
       "SO2               0\n",
       "CO                0\n",
       "O3                0\n",
       "NO2               0\n",
       "PM10              0\n",
       "PM25              0\n",
       "기온(°C)            0\n",
       "강수량(mm)           0\n",
       "풍속(m/s)           0\n",
       "풍향(16방위)          0\n",
       "습도(%)             0\n",
       "증기압(hPa)          0\n",
       "이슬점온도(°C)         0\n",
       "현지기압(hPa)         0\n",
       "해면기압(hPa)         0\n",
       "전운량(10분위)         0\n",
       "중하층운량(10분위)       0\n",
       "시정(10m)           0\n",
       "지면온도(°C)          0\n",
       "5cm 지중온도(°C)      0\n",
       "10cm 지중온도(°C)     0\n",
       "20cm 지중온도(°C)     0\n",
       "30cm 지중온도(°C)     0\n",
       "month             0\n",
       "day               0\n",
       "hour              0\n",
       "PM10_lag1        24\n",
       "dtype: int64"
      ]
     },
     "execution_count": 365,
     "metadata": {},
     "output_type": "execute_result"
    }
   ],
   "source": [
    "# 결측치가 있다면 처리\n",
    "df_21.isnull().sum()"
   ]
  },
  {
   "cell_type": "code",
   "execution_count": 366,
   "id": "099a5203-83a2-49dc-86cb-bc54e24c686f",
   "metadata": {},
   "outputs": [],
   "source": [
    "df_21[\"PM10_lag1\"].fillna(0, inplace = True)"
   ]
  },
  {
   "cell_type": "code",
   "execution_count": 367,
   "id": "4eaeeaae-e3a3-4df1-a711-f670d8ee26bf",
   "metadata": {},
   "outputs": [],
   "source": [
    "df_21[\"PM10_1\"] = df_21[\"PM10\"].shift(1)"
   ]
  },
  {
   "cell_type": "code",
   "execution_count": 368,
   "id": "c0d8dca7-de27-4d21-90b4-094c960a3a49",
   "metadata": {},
   "outputs": [],
   "source": [
    "df_21[\"PM10_1\"].fillna(0, inplace = True)"
   ]
  },
  {
   "cell_type": "code",
   "execution_count": 369,
   "id": "25a75c4e-84f7-4a74-9df5-41cecc43bf52",
   "metadata": {},
   "outputs": [],
   "source": [
    "df_22[\"PM10_lag1\"].fillna(0, inplace = True)\n",
    "df_22[\"PM10_1\"] = df_22[\"PM10\"].shift(1)\n",
    "df_22[\"PM10_1\"].fillna(0, inplace = True)"
   ]
  },
  {
   "cell_type": "markdown",
   "id": "27c6c592",
   "metadata": {},
   "source": [
    "---"
   ]
  },
  {
   "cell_type": "markdown",
   "id": "54279875-b095-4100-97b2-7fddd9488107",
   "metadata": {
    "tags": []
   },
   "source": [
    "#### **<span style=\"color:blue\">[2-8] train, test 데이터 분리</span>**"
   ]
  },
  {
   "cell_type": "markdown",
   "id": "dependent-motion",
   "metadata": {},
   "source": [
    "* 21년도 데이터(df_21)를 train 데이터로 저장하세요. y 값을 제외하고 train_x로 저장한 후 y 값은 train_y로 저장하세요.\n",
    "* 22년도 데이터(df_22)를 test 데이터로 저장하세요. y 값을 제외하고 test_x로 저장한 후 y 값은 test_y로 저장하세요.\n",
    "* 각각의 데이터프레임을 csv 파일로 저장하세요. (train_x.csv / train_y.csv / test_x.csv / test_y.csv)\n",
    "* y값은 'PM10_1' 즉, t+1 시점의 미세먼지 농도입니다."
   ]
  },
  {
   "cell_type": "code",
   "execution_count": 371,
   "id": "02ad0ed1",
   "metadata": {},
   "outputs": [],
   "source": [
    "# 각각의 데이터프레임을 csv 파일로 저장 (train_x.csv / train_y.csv / test_x.csv / test_y.csv)\n",
    "df_21_x = df_21.drop(\"PM10_1\", axis = 1)\n",
    "df_21_y = df_21.loc[:, \"PM10_1\"]\n",
    "df_22_x = df_22.drop(\"PM10_1\", axis = 1)\n",
    "df_22_y = df_22.loc[:, \"PM10_1\"]"
   ]
  },
  {
   "cell_type": "code",
   "execution_count": 372,
   "id": "6b592a43-461c-46bc-8748-58d141f4480a",
   "metadata": {},
   "outputs": [],
   "source": [
    "df_21_x.to_csv(\"train_x.csv\", index = False)\n",
    "df_21_y.to_csv(\"train_y.csv\", index = False)\n",
    "df_22_x.to_csv(\"test_x.csv\", index = False)\n",
    "df_22_y.to_csv(\"test_y.csv\", index = False)"
   ]
  }
 ],
 "metadata": {
  "kernelspec": {
   "display_name": "Python 3 (ipykernel)",
   "language": "python",
   "name": "python3"
  },
  "language_info": {
   "codemirror_mode": {
    "name": "ipython",
    "version": 3
   },
   "file_extension": ".py",
   "mimetype": "text/x-python",
   "name": "python",
   "nbconvert_exporter": "python",
   "pygments_lexer": "ipython3",
   "version": "3.9.13"
  },
  "vscode": {
   "interpreter": {
    "hash": "f08154012ddadd8e950e6e9e035c7a7b32c136e7647e9b7c77e02eb723a8bedb"
   }
  }
 },
 "nbformat": 4,
 "nbformat_minor": 5
}
