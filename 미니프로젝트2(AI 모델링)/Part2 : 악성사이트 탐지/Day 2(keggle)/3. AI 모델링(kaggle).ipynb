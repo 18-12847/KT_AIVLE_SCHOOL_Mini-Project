{
 "cells": [
  {
   "cell_type": "markdown",
   "metadata": {},
   "source": [
    "## <b> [3단계] AI 모델링\n",
    "---\n",
    "\n",
    "## 1, 2 단계에서 진행하신 내용을 아래에 그대로 진행해주세요.\n",
    "\n",
    "---"
   ]
  },
  {
   "cell_type": "markdown",
   "metadata": {},
   "source": [
    "# <b>Step 0. 라이브러리 import 및 데이터 불러오기\n",
    "### **가. 라이브러리 import**"
   ]
  },
  {
   "cell_type": "markdown",
   "metadata": {
    "jupyter": {
     "outputs_hidden": true
    },
    "tags": []
   },
   "source": [
    "#Tensorflow 설치하기\n",
    "# !pip install Tensorflow"
   ]
  },
  {
   "cell_type": "code",
   "execution_count": 5,
   "metadata": {},
   "outputs": [],
   "source": [
    "import tensorflow as tf"
   ]
  },
  {
   "cell_type": "markdown",
   "metadata": {},
   "source": [
    "* 데이터 프레임 관련 라이브러리"
   ]
  },
  {
   "cell_type": "code",
   "execution_count": 41,
   "metadata": {},
   "outputs": [],
   "source": [
    "#라이브러리 불러오기\n",
    "import pandas as pd\n",
    "import matplotlib.pyplot as plt"
   ]
  },
  {
   "cell_type": "markdown",
   "metadata": {},
   "source": [
    "### **나.  학습데이터 불러오기**"
   ]
  },
  {
   "cell_type": "code",
   "execution_count": 2,
   "metadata": {},
   "outputs": [],
   "source": [
    "df = pd.read_csv(\"df_train.csv\", sep = \",\")\n",
    "x = df.drop(\"label\", axis = 1)\n",
    "y = df.loc[:, \"label\"]"
   ]
  },
  {
   "cell_type": "markdown",
   "metadata": {},
   "source": [
    "### **다.  데이터 전처리**"
   ]
  },
  {
   "cell_type": "markdown",
   "metadata": {},
   "source": [
    "### **라. train_test_split을 이용하여 train/test  데이터 분리**\n",
    "\n"
   ]
  },
  {
   "cell_type": "code",
   "execution_count": 3,
   "metadata": {},
   "outputs": [],
   "source": [
    "from sklearn.model_selection import train_test_split\n",
    "x_train, x_test, y_train, y_test = train_test_split(x, y, test_size = 0.2, random_state = 2021)"
   ]
  },
  {
   "cell_type": "code",
   "execution_count": 21,
   "metadata": {},
   "outputs": [],
   "source": [
    "# 불러오기\n",
    "from sklearn.neighbors import KNeighborsClassifier\n",
    "from sklearn.tree import DecisionTreeClassifier\n",
    "from sklearn.linear_model import LogisticRegression\n",
    "from sklearn.svm import SVC\n",
    "from sklearn.ensemble import RandomForestClassifier\n",
    "from xgboost import XGBClassifier\n",
    "from lightgbm import LGBMClassifier\n",
    "\n",
    "from sklearn.model_selection import cross_val_score, GridSearchCV\n",
    "from sklearn.metrics import confusion_matrix, classification_report"
   ]
  },
  {
   "cell_type": "code",
   "execution_count": 22,
   "metadata": {},
   "outputs": [
    {
     "name": "stdout",
     "output_type": "stream",
     "text": [
      "평균 :  0.9372257850701491\n"
     ]
    }
   ],
   "source": [
    "# 선언하기\n",
    "model = DecisionTreeClassifier(random_state = 1)\n",
    "\n",
    "# 성능예측\n",
    "cv_score = cross_val_score(model, x_train, y_train, cv = 5)\n",
    "\n",
    "# 결과확인\n",
    "print(\"평균 : \", cv_score.mean())\n",
    "\n",
    "# 결과수집\n",
    "result = {}\n",
    "result[\"Decision Tree\"] = cv_score.mean()"
   ]
  },
  {
   "cell_type": "code",
   "execution_count": 35,
   "metadata": {},
   "outputs": [
    {
     "name": "stdout",
     "output_type": "stream",
     "text": [
      "평균: 0.850222976783669\n"
     ]
    }
   ],
   "source": [
    "# 선언하기\n",
    "model = LogisticRegression(max_iter = 2399)\n",
    "\n",
    "# 성능예측\n",
    "cv_score = cross_val_score(model, x_train, y_train, cv=5)\n",
    "\n",
    "# 결과확인\n",
    "print('평균:', cv_score.mean())\n",
    "\n",
    "# 결과수집\n",
    "result['Logistic Regression'] = cv_score.mean()"
   ]
  },
  {
   "cell_type": "code",
   "execution_count": 36,
   "metadata": {},
   "outputs": [
    {
     "name": "stdout",
     "output_type": "stream",
     "text": [
      "평균 :  0.9587164444651174\n"
     ]
    }
   ],
   "source": [
    "# 선언하기\n",
    "model = RandomForestClassifier(random_state = 1)\n",
    "\n",
    "# 성능예측\n",
    "cv_score = cross_val_score(model, x_train, y_train, cv = 5)\n",
    "\n",
    "# 결과확인\n",
    "print(\"평균 : \", cv_score.mean())\n",
    "\n",
    "# 결과수집\n",
    "result[\"Random Forest\"] = cv_score.mean()"
   ]
  },
  {
   "cell_type": "code",
   "execution_count": 37,
   "metadata": {},
   "outputs": [
    {
     "name": "stdout",
     "output_type": "stream",
     "text": [
      "평균 :  0.958715863039345\n"
     ]
    }
   ],
   "source": [
    "# 선언하기\n",
    "model = XGBClassifier(random_state = 1)\n",
    "\n",
    "# 성능예측\n",
    "cv_score = cross_val_score(model, x_train, y_train, cv = 5)\n",
    "\n",
    "# 결과확인\n",
    "print(\"평균 : \", cv_score.mean())\n",
    "\n",
    "# 결과수집\n",
    "result[\"XGBoost\"] = cv_score.mean()"
   ]
  },
  {
   "cell_type": "code",
   "execution_count": 38,
   "metadata": {},
   "outputs": [
    {
     "name": "stdout",
     "output_type": "stream",
     "text": [
      "평균 :  0.9580350134600067\n"
     ]
    }
   ],
   "source": [
    "# 선언하기\n",
    "model = LGBMClassifier(random_state = 1)\n",
    "\n",
    "# 성능예측\n",
    "cv_score = cross_val_score(model, x_train, y_train, cv = 5)\n",
    "\n",
    "# 결과확인\n",
    "print(\"평균 : \", cv_score.mean())\n",
    "\n",
    "# 결과수집\n",
    "result[\"LightGBM\"] = cv_score.mean()"
   ]
  },
  {
   "cell_type": "code",
   "execution_count": 39,
   "metadata": {},
   "outputs": [
    {
     "name": "stdout",
     "output_type": "stream",
     "text": [
      "========================================\n",
      "Decision Tree 0.937\n",
      "Logistic Regression 0.85\n",
      "Random Forest 0.959\n",
      "XGBoost 0.959\n",
      "LightGBM 0.958\n",
      "========================================\n"
     ]
    }
   ],
   "source": [
    "# 성능 비교\n",
    "print('=' * 40)\n",
    "for m_name, score in result.items():\n",
    "    print(m_name, score.round(3))\n",
    "print('=' * 40)"
   ]
  },
  {
   "cell_type": "code",
   "execution_count": 42,
   "metadata": {},
   "outputs": [
    {
     "data": {
      "image/png": "[encoded data removed]",
      "text/plain": [
       "<Figure size 640x480 with 1 Axes>"
      ]
     },
     "metadata": {},
     "output_type": "display_data"
    }
   ],
   "source": [
    "# 성능 시각화 비교\n",
    "plt.barh(list(result.keys()), result.values())\n",
    "plt.show()"
   ]
  },
  {
   "cell_type": "code",
   "execution_count": 43,
   "metadata": {},
   "outputs": [
    {
     "name": "stdout",
     "output_type": "stream",
     "text": [
      "[[347  11]\n",
      " [  8 367]]\n",
      "              precision    recall  f1-score   support\n",
      "\n",
      "           0       0.98      0.97      0.97       358\n",
      "           1       0.97      0.98      0.97       375\n",
      "\n",
      "    accuracy                           0.97       733\n",
      "   macro avg       0.97      0.97      0.97       733\n",
      "weighted avg       0.97      0.97      0.97       733\n",
      "\n"
     ]
    }
   ],
   "source": [
    "# 선언하기\n",
    "model = XGBClassifier(random_state = 1)\n",
    "\n",
    "# 3단계: 학습하기\n",
    "model.fit(x_train, y_train)\n",
    "\n",
    "# 4단계: 예측하기\n",
    "y_pred = model.predict(x_test)\n",
    "\n",
    "# 5단계 평가하기\n",
    "print(confusion_matrix(y_test, y_pred))\n",
    "print(classification_report(y_test, y_pred))"
   ]
  }
 ],
 "metadata": {
  "kernelspec": {
   "display_name": "Python 3 (ipykernel)",
   "language": "python",
   "name": "python3"
  },
  "language_info": {
   "codemirror_mode": {
    "name": "ipython",
    "version": 3
   },
   "file_extension": ".py",
   "mimetype": "text/x-python",
   "name": "python",
   "nbconvert_exporter": "python",
   "pygments_lexer": "ipython3",
   "version": "3.9.13"
  },
  "vscode": {
   "interpreter": {
    "hash": "f08154012ddadd8e950e6e9e035c7a7b32c136e7647e9b7c77e02eb723a8bedb"
   }
  }
 },
 "nbformat": 4,
 "nbformat_minor": 4
}
