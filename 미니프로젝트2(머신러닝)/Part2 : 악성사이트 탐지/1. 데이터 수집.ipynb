{
 "cells": [
  {
   "cell_type": "markdown",
   "metadata": {},
   "source": [
    "## [미니프로젝트] 악성사이트 탐지 머신러닝 모델 개발\n",
    "\n",
    "### 여러분은 기업 보안팀에서 근무중인 엔지니어로써, 웹페이지에서 추출한 Feature(특징) 기반으로 악성사이트를 탐지하는 머신러닝 모델 개발 미션을 부여받았습니다.\n",
    "\n",
    "### ▣ 우리가 풀어야 하는 문제는 무엇인가요?\n",
    " - 웹 페이지에서 Feature를 추출하세요.\n",
    " - 악성사이트 여부를 판별하는 성능 좋은 AI모델을 생성하세요.\n",
    "\n",
    "<br>\n",
    "\n",
    "---\n",
    "\n",
    "## ▣ 데이터 소개\n",
    "* 웹 크롤링 데이터셋 : Feature_Website.xlsx - 데이터 수집용 -> train.csv로\n",
    "\n",
    "## ▣ 웹 크롤링 데이터셋의 변수 소개\n",
    "* html_code : 크롤링을 활용해 수집한 HTML Code 원본\n",
    "* repu : 악성사이트 여부 (malicious : 악성사이트, benign : 정상사이트) - target\n",
    "<br>\n",
    "\n",
    "---"
   ]
  },
  {
   "cell_type": "code",
   "execution_count": null,
   "metadata": {},
   "outputs": [],
   "source": [
    "# feature 엔지니어링 과정을 가졌따...!"
   ]
  },
  {
   "cell_type": "markdown",
   "metadata": {},
   "source": [
    "## <b>[1단계] 데이터 수집</b>\n",
    "\n",
    "* 1단계에서는 크롤링으로 수집한 HTML Code를 활용해 Feature를 만드는 과정을 체험합니다."
   ]
  },
  {
   "cell_type": "markdown",
   "metadata": {},
   "source": [
    "# <b>Step 0. 본격적인 실습 전 packages 설치\n",
    "* Beautifulsoup 라이브러리 설치\n",
    "* openpyxl 라이브러리 설치"
   ]
  },
  {
   "cell_type": "markdown",
   "metadata": {},
   "source": [
    "* 데이터 프레임 관련 라이브러리 Import"
   ]
  },
  {
   "cell_type": "code",
   "execution_count": 2,
   "metadata": {},
   "outputs": [],
   "source": [
    "import pandas as pd"
   ]
  },
  {
   "cell_type": "markdown",
   "metadata": {},
   "source": [
    "---\n",
    "## <b>Q1. 데이터 불러오기\n",
    "### 정상/악성 HTML Code가 저장된 엑셀파일 불러오기\n",
    "- 파일명 : Feature Website.xlsx\n"
   ]
  },
  {
   "cell_type": "markdown",
   "metadata": {},
   "source": [
    "### <span style=\"color:darkred\">[문제1] Pandas 라이브러리를 활용해서 'Feature Website.xlsx'파일을 'df' 변수에 저장하고 그 info()및 head()를 통해 데이터를 확인하세요.<span>"
   ]
  },
  {
   "cell_type": "code",
   "execution_count": 100,
   "metadata": {},
   "outputs": [],
   "source": [
    "df = pd.read_excel(\"Feature_Website.xlsx\", engine = \"openpyxl\")# 아래에 실습코드를 작성하고 결과를 확인합니다."
   ]
  },
  {
   "cell_type": "code",
   "execution_count": 112,
   "metadata": {},
   "outputs": [
    {
     "name": "stdout",
     "output_type": "stream",
     "text": [
      "<class 'pandas.core.frame.DataFrame'>\n",
      "RangeIndex: 40 entries, 0 to 39\n",
      "Data columns (total 2 columns):\n",
      " #   Column     Non-Null Count  Dtype \n",
      "---  ------     --------------  ----- \n",
      " 0   html_code  40 non-null     object\n",
      " 1   repu       40 non-null     object\n",
      "dtypes: object(2)\n",
      "memory usage: 768.0+ bytes\n"
     ]
    }
   ],
   "source": [
    "df.info()"
   ]
  },
  {
   "cell_type": "code",
   "execution_count": 101,
   "metadata": {
    "collapsed": true,
    "jupyter": {
     "outputs_hidden": true
    },
    "tags": []
   },
   "outputs": [
    {
     "data": {
      "text/plain": [
       "'\\n\\t\\n\\n\\n\\t\\n\\n\\t\\n\\n\\n\\t\\n\\n\\n\\t\\n\\n\\t\\n\\t\\t\\n\\t\\n\\n\\t\\n\\n\\t\\t\\n\\t\\t\\n\\n\\t\\n\\n\\n\\t\\n\\n\\n\\t\\t\\t\\t\\n\\n\\t\\t\\t\\t\\t\\n\\t\\t\\t\\t\\t\\t\\n\\n\\n\\n<!DOCTYPE html>\\n<html xmlns=\"http://www.w3.org/1999/xhtml\" xml:lang=\"en-US\" lang=\"en-US\" prefix=\"og: http://ogp.me/ns#\" class=\"no-js\" data-layout-name=\"valentines-day-promo\">\\n<head>\\n\\t\\n\\n\\n\\n\\n\\n\\t\\n\\n\\n\\n\\n\\n\\n\\t\\n\\t\\t<script>\\n(function() {\\n\\tvar rootPath = \\'/us\\';\\n\\n\\tif (rootPath === \\'(none)\\' || rootPath === \\'/us\\') {\\n\\t\\trootPath = \\'\\';\\n\\t}\\n\\n\\tvar endPoint = rootPath + \\'/shop/experience-meta\\';\\n\\n\\tif (!window.acTargetCustomSettings) {\\n\\t\\twindow.acTargetCustomSettings = {\\n\\t\\t\\tconstants : {\\n\\t\\t\\t\\tasTexServiceEndpoint: endPoint\\n\\t\\t\\t}\\n\\t\\t}\\n\\t} else {\\n\\t\\tif (!window.acTargetCustomSettings.constants) {\\n\\t\\t\\twindow.acTargetCustomSettings.constants = {};\\n\\t\\t}\\n\\t\\twindow.acTargetCustomSettings.constants.asTexServiceEndpoint = window.acTargetCustomSettings.constants.asTexServiceEndpoint || endPoint;\\n\\t}\\n})();\\n</script>\\n<script src=\"/metrics/ac-target/latest/ac-target.js\" type=\"text/javascript\" charset=\"utf-8\"></script>\\n\\n\\t\\n\\n\\n\\t\\n\\n\\n\\n\\n\\n\\n\\n\\n\\n\\n\\n\\n\\n\\n\\n\\n\\n\\n\\n\\n\\n\\n\\n\\n\\n\\n\\n\\n<meta charset=\"utf-8\" />\\n<link rel=\"canonical\" href=\"https://www.apple.com/\" />\\n\\n\\n\\t\\n\\t<link rel=\"alternate\" href=\"https://www.apple.com/\" hreflang=\"en-US\" /><link rel=\"alternate\" href=\"https://www.apple.com/ae-ar/\" hreflang=\"ar-AE\" /><link rel=\"alternate\" href=\"https://www.apple.com/ae/\" hreflang=\"en-AE\" /><link rel=\"alternate\" href=\"https://www.apple.com/am/\" hreflang=\"en-AM\" /><link rel=\"alternate\" href=\"https://www.apple.com/at/\" hreflang=\"de-AT\" /><link rel=\"alternate\" href=\"https://www.apple.com/au/\" hreflang=\"en-AU\" /><link rel=\"alternate\" href=\"https://www.apple.com/befr/\" hreflang=\"fr-BE\" /><link rel=\"alternate\" href=\"https://www.apple.com/benl/\" hreflang=\"nl-BE\" /><link rel=\"alternate\" href=\"https://www.apple.com/bg/\" hreflang=\"bg-BG\" /><link rel=\"alternate\" href=\"https://www.apple.com/bh-ar/\" hreflang=\"ar-BH\" /><link rel=\"alternate\" href=\"https://www.apple.com/bh/\" hreflang=\"en-BH\" /><link rel=\"alternate\" href=\"https://www.apple.com/br/\" hreflang=\"pt-BR\" /><link rel=\"alternate\" href=\"https://www.apple.com/bw/\" hreflang=\"en-BW\" /><link rel=\"alternate\" href=\"https://www.apple.com/ca/\" hreflang=\"en-CA\" /><link rel=\"alternate\" href=\"https://www.apple.com/ca/fr/\" hreflang=\"fr-CA\" /><link rel=\"alternate\" href=\"https://www.apple.com/cf/\" hreflang=\"fr-CF\" /><link rel=\"alternate\" href=\"https://www.apple.com/chde/\" hreflang=\"de-CH\" /><link rel=\"alternate\" href=\"https://www.apple.com/chfr/\" hreflang=\"fr-CH\" /><link rel=\"alternate\" href=\"https://www.apple.com/ci/\" hreflang=\"fr-CI\" /><link rel=\"alternate\" href=\"https://www.apple.com/cl/\" hreflang=\"es-CL\" /><link rel=\"alternate\" href=\"https://www.apple.com/cm/\" hreflang=\"fr-CM\" /><link rel=\"alternate\" href=\"https://www.apple.com/co/\" hreflang=\"es-CO\" /><link rel=\"alternate\" href=\"https://www.apple.com/cz/\" hreflang=\"cs-CZ\" /><link rel=\"alternate\" href=\"https://www.apple.com/de/\" hreflang=\"de-DE\" /><link rel=\"alternate\" href=\"https://www.apple.com/dk/\" hreflang=\"da-DK\" /><link rel=\"alternate\" href=\"https://www.apple.com/ee/\" hreflang=\"et-EE\" /><link rel=\"alternate\" href=\"https://www.apple.com/eg-ar/\" hreflang=\"ar-EG\" /><link rel=\"alternate\" href=\"https://www.apple.com/eg/\" hreflang=\"en-EG\" /><link rel=\"alternate\" href=\"https://www.apple.com/es/\" hreflang=\"es-ES\" /><link rel=\"alternate\" href=\"https://www.apple.com/fi/\" hreflang=\"fi-FI\" /><link rel=\"alternate\" href=\"https://www.apple.com/fr/\" hreflang=\"fr-FR\" /><link rel=\"alternate\" href=\"https://www.apple.com/gn/\" hreflang=\"fr-GN\" /><link rel=\"alternate\" href=\"https://www.apple.com/gq/\" hreflang=\"fr-GQ\" /><link rel=\"alternate\" href=\"https://www.apple.com/gr/\" hreflang=\"el-GR\" /><link rel=\"alternate\" href=\"https://www.apple.com/gw/\" hreflang=\"en-GW\" /><link rel=\"alternate\" href=\"https://www.apple.com/hk/\" hreflang=\"zh-HK\" /><link rel=\"alternate\" href=\"https://www.apple.com/hk/en/\" hreflang=\"en-HK\" /><link rel=\"alternate\" href=\"https://www.apple.com/hr/\" hreflang=\"hr-HR\" /><link rel=\"alternate\" href=\"https://www.apple.com/hu/\" hreflang=\"hu-HU\" /><link rel=\"alternate\" href=\"https://www.apple.com/id/\" hreflang=\"en-ID\" /><link rel=\"alternate\" href=\"https://www.apple.com/ie/\" hreflang=\"en-IE\" /><link rel=\"alternate\" href=\"https://www.apple.com/il/\" hreflang=\"en-IL\" /><link rel=\"alternate\" href=\"https://www.apple.com/in/\" hreflang=\"en-IN\" /><link rel=\"alternate\" href=\"https://www.apple.com/it/\" hreflang=\"it-IT\" /><link rel=\"alternate\" href=\"https://www.apple.com/jo-ar/\" hreflang=\"ar-JO\" /><link rel=\"alternate\" href=\"https://www.apple.com/jo/\" hreflang=\"en-JO\" /><link rel=\"alternate\" href=\"https://www.apple.com/jp/\" hreflang=\"ja-JP\" /><link rel=\"alternate\" href=\"https://www.apple.com/ke/\" hreflang=\"en-KE\" /><link rel=\"alternate\" href=\"https://www.apple.com/kr/\" hreflang=\"ko-KR\" /><link rel=\"alternate\" href=\"https://www.apple.com/kw-ar/\" hreflang=\"ar-KW\" /><link rel=\"alternate\" href=\"https://www.apple.com/kw/\" hreflang=\"en-KW\" /><link rel=\"alternate\" href=\"https://www.apple.com/la/\" hreflang=\"es-HN\" /><link rel=\"alternate\" href=\"https://www.apple.com/la/\" hreflang=\"es-AR\" /><link rel=\"alternate\" href=\"https://www.apple.com/la/\" hreflang=\"es-SV\" /><link rel=\"alternate\" href=\"https://www.apple.com/la/\" hreflang=\"es-PR\" /><link rel=\"alternate\" href=\"https://www.apple.com/la/\" hreflang=\"es-DO\" /><link rel=\"alternate\" href=\"https://www.apple.com/la/\" hreflang=\"es-EC\" /><link rel=\"alternate\" href=\"https://www.apple.com/la/\" hreflang=\"es-GT\" /><link rel=\"alternate\" href=\"https://www.apple.com/la/\" hreflang=\"es-PE\" /><link rel=\"alternate\" href=\"https://www.apple.com/la/\" hreflang=\"es-BO\" /><link rel=\"alternate\" href=\"https://www.apple.com/la/\" hreflang=\"es-NI\" /><link rel=\"alternate\" href=\"https://www.apple.com/la/\" hreflang=\"es-VE\" /><link rel=\"alternate\" href=\"https://www.apple.com/la/\" hreflang=\"es-PA\" /><link rel=\"alternate\" href=\"https://www.apple.com/la/\" hreflang=\"es-CR\" /><link rel=\"alternate\" href=\"https://www.apple.com/la/\" hreflang=\"es-UY\" /><link rel=\"alternate\" href=\"https://www.apple.com/la/\" hreflang=\"es-PY\" /><link rel=\"alternate\" href=\"https://www.apple.com/lae/\" hreflang=\"en-AG\" /><link rel=\"alternate\" href=\"https://www.apple.com/lae/\" hreflang=\"en-BS\" /><link rel=\"alternate\" href=\"https://www.apple.com/lae/\" hreflang=\"en-TC\" /><link rel=\"alternate\" href=\"https://www.apple.com/lae/\" hreflang=\"en-TT\" /><link rel=\"alternate\" href=\"https://www.apple.com/lae/\" hreflang=\"en-SR\" /><link rel=\"alternate\" href=\"https://www.apple.com/lae/\" hreflang=\"en-BM\" /><link rel=\"alternate\" href=\"https://www.apple.com/lae/\" hreflang=\"en-BB\" /><link rel=\"alternate\" href=\"https://www.apple.com/lae/\" hreflang=\"en-BZ\" /><link rel=\"alternate\" href=\"https://www.apple.com/lae/\" hreflang=\"en-GD\" /><link rel=\"alternate\" href=\"https://www.apple.com/lae/\" hreflang=\"en-KY\" /><link rel=\"alternate\" href=\"https://www.apple.com/lae/\" hreflang=\"en-LC\" /><link rel=\"alternate\" href=\"https://www.apple.com/lae/\" hreflang=\"en-MS\" /><link rel=\"alternate\" href=\"https://www.apple.com/lae/\" hreflang=\"en-KN\" /><link rel=\"alternate\" href=\"https://www.apple.com/lae/\" hreflang=\"en-AI\" /><link rel=\"alternate\" href=\"https://www.apple.com/lae/\" hreflang=\"en-VC\" /><link rel=\"alternate\" href=\"https://www.apple.com/lae/\" hreflang=\"en-GY\" /><link rel=\"alternate\" href=\"https://www.apple.com/lae/\" hreflang=\"en-VG\" /><link rel=\"alternate\" href=\"https://www.apple.com/lae/\" hreflang=\"en-PR\" /><link rel=\"alternate\" href=\"https://www.apple.com/lae/\" hreflang=\"en-DM\" /><link rel=\"alternate\" href=\"https://www.apple.com/lae/\" hreflang=\"en-JM\" /><link rel=\"alternate\" href=\"https://www.apple.com/li/\" hreflang=\"de-LI\" /><link rel=\"alternate\" href=\"https://www.apple.com/lt/\" hreflang=\"lt-LT\" /><link rel=\"alternate\" href=\"https://www.apple.com/lu/\" hreflang=\"fr-LU\" /><link rel=\"alternate\" href=\"https://www.apple.com/lv/\" hreflang=\"lv-LV\" /><link rel=\"alternate\" href=\"https://www.apple.com/ma/\" hreflang=\"fr-MA\" /><link rel=\"alternate\" href=\"https://www.apple.com/md/\" hreflang=\"en-MD\" /><link rel=\"alternate\" href=\"https://www.apple.com/me/\" hreflang=\"en-ME\" /><link rel=\"alternate\" href=\"https://www.apple.com/mg/\" hreflang=\"en-MG\" /><link rel=\"alternate\" href=\"https://www.apple.com/mk/\" hreflang=\"en-MK\" /><link rel=\"alternate\" href=\"https://www.apple.com/ml/\" hreflang=\"fr-ML\" /><link rel=\"alternate\" href=\"https://www.apple.com/mo/\" hreflang=\"zh-MO\" /><link rel=\"alternate\" href=\"https://www.apple.com/mt/\" hreflang=\"en-MT\" /><link rel=\"alternate\" href=\"https://www.apple.com/mu/\" hreflang=\"fr-MU\" /><link rel=\"alternate\" href=\"https://www.apple.com/mx/\" hreflang=\"es-MX\" /><link rel=\"alternate\" href=\"https://www.apple.com/my/\" hreflang=\"en-MY\" /><link rel=\"alternate\" href=\"https://www.apple.com/mz/\" hreflang=\"en-MZ\" /><link rel=\"alternate\" href=\"https://www.apple.com/ne/\" hreflang=\"fr-NE\" /><link rel=\"alternate\" href=\"https://www.apple.com/ng/\" hreflang=\"en-NG\" /><link rel=\"alternate\" href=\"https://www.apple.com/nl/\" hreflang=\"nl-NL\" /><link rel=\"alternate\" href=\"https://www.apple.com/no/\" hreflang=\"no-NO\" /><link rel=\"alternate\" href=\"https://www.apple.com/nz/\" hreflang=\"en-NZ\" /><link rel=\"alternate\" href=\"https://www.apple.com/om-ar/\" hreflang=\"ar-OM\" /><link rel=\"alternate\" href=\"https://www.apple.com/om/\" hreflang=\"en-OM\" /><link rel=\"alternate\" href=\"https://www.apple.com/ph/\" hreflang=\"en-PH\" /><link rel=\"alternate\" href=\"https://www.apple.com/pl/\" hreflang=\"pl-PL\" /><link rel=\"alternate\" href=\"https://www.apple.com/pt/\" hreflang=\"pt-PT\" /><link rel=\"alternate\" href=\"https://www.apple.com/qa-ar/\" hreflang=\"ar-QA\" /><link rel=\"alternate\" href=\"https://www.apple.com/qa/\" hreflang=\"en-QA\" /><link rel=\"alternate\" href=\"https://www.apple.com/ro/\" hreflang=\"ro-RO\" /><link rel=\"alternate\" href=\"https://www.apple.com/ru/\" hreflang=\"ru-RU\" /><link rel=\"alternate\" href=\"https://www.apple.com/sa-ar/\" hreflang=\"ar-SA\" /><link rel=\"alternate\" href=\"https://www.apple.com/sa/\" hreflang=\"en-SA\" /><link rel=\"alternate\" href=\"https://www.apple.com/se/\" hreflang=\"sv-SE\" /><link rel=\"alternate\" href=\"https://www.apple.com/sg/\" hreflang=\"en-SG\" /><link rel=\"alternate\" href=\"https://www.apple.com/si/\" hreflang=\"en-SI\" /><link rel=\"alternate\" href=\"https://www.apple.com/sk/\" hreflang=\"sk-SK\" /><link rel=\"alternate\" href=\"https://www.apple.com/sn/\" hreflang=\"fr-SN\" /><link rel=\"alternate\" href=\"https://www.apple.com/th/\" hreflang=\"th-TH\" /><link rel=\"alternate\" href=\"https://www.apple.com/tn/\" hreflang=\"fr-TN\" /><link rel=\"alternate\" href=\"https://www.apple.com/tr/\" hreflang=\"tr-TR\" /><link rel=\"alternate\" href=\"https://www.apple.com/tw/\" hreflang=\"zh-TW\" /><link rel=\"alternate\" href=\"https://www.apple.com/ug/\" hreflang=\"en-UG\" /><link rel=\"alternate\" href=\"https://www.apple.com/uk/\" hreflang=\"en-GB\" /><link rel=\"alternate\" href=\"https://www.apple.com/vn/\" hreflang=\"en-VN\" /><link rel=\"alternate\" href=\"https://www.apple.com/za/\" hreflang=\"en-ZA\" /><link rel=\"alternate\" href=\"https://www.apple.com.cn/\" hreflang=\"zh-CN\" />\\n\\n\\n\\n\\t\\n<meta name=\"viewport\" content=\"width=device-width, initial-scale=1, viewport-fit=cover\" />\\n\\n\\t\\n\\t\\n\\t<link rel=\"stylesheet\" type=\"text/css\" href=\"/ac/globalnav/6/en_US/styles/ac-globalnav.built.css\" />\\n\\t<link rel=\"stylesheet\" type=\"text/css\" href=\"/ac/localnav/5/styles/ac-localnav.built.css\" />\\n\\t<link rel=\"stylesheet\" type=\"text/css\" href=\"/ac/globalfooter/6/en_US/styles/ac-globalfooter.built.css\" />\\n\\t\\n\\n\\n\\t<title>Apple</title>\\n\\t<meta property=\"analytics-track\" content=\"Apple - Index/Tab\" />\\n\\t<meta property=\"analytics-s-channel\" content=\"homepage\" />\\n\\n\\t<meta property=\"analytics-s-bucket-0\" content=\"appleglobal,applestoreww\" />\\n\\t<meta property=\"analytics-s-bucket-1\" content=\"appleglobal,applestoreww\" />\\n\\t<meta property=\"analytics-s-bucket-2\" content=\"appleglobal,applestoreww\" />\\n\\n\\t<meta name=\"Description\" content=\"Discover the innovative world of Apple and shop everything iPhone, iPad, Apple Watch, Mac, and Apple TV, plus explore accessories, entertainment, and expert device support.\" />\\n\\t<meta property=\"og:title\" content=\"Apple\" />\\n\\t<meta property=\"og:description\" content=\"Discover the innovative world of Apple and shop everything iPhone, iPad, Apple Watch, Mac, and Apple TV, plus explore accessories, entertainment, and expert device support.\" />\\n\\t<meta property=\"og:url\" content=\"https://www.apple.com/\" />\\n\\t<meta property=\"og:locale\" content=\"en_US\" />\\n\\t<meta property=\"og:image\" content=\"https://www.apple.com/ac/structured-data/images/open_graph_logo.png?201809210816\" />\\n\\t<meta property=\"og:type\" content=\"website\" />\\n\\t<meta property=\"og:site_name\" content=\"Apple\" />\\n\\t<link rel=\"stylesheet\" href=\"/wss/fonts?families=SF+Pro,v3|SF+Pro+Icons,v3\" type=\"text/css\" media=\"all\" />\\n\\t<link rel=\"stylesheet\" href=\"/v/home/s/built/styles/main.built.css\" type=\"text/css\" />\\n\\t<script src=\"/v/home/s/built/scripts/head.built.js\" type=\"text/javascript\" charset=\"utf-8\"></script>\\n</head>\\n<body  class=\"page-home ac-nav-overlap\" >\\n\\n\\t<h1 class=\"visuallyhidden\">Apple</h1>\\n\\n\\t\\n<meta name=\"ac-gn-store-key\" content=\"SFX9YPYY9PPXCU9KH\" />\\n<aside id=\"ac-gn-segmentbar\" class=\"ac-gn-segmentbar\" lang=\"en-US\" dir=\"ltr\" data-strings=\"{ \\'exit\\': \\'Exit\\', \\'view\\': \\'{%STOREFRONT%} Store Home\\', \\'segments\\': { \\'smb\\': \\'Business Store Home\\', \\'eduInd\\': \\'Education Store Home\\', \\'other\\': \\'Store Home\\' } }\">\\n</aside>\\n<input type=\"checkbox\" id=\"ac-gn-menustate\" class=\"ac-gn-menustate\" />\\n<nav id=\"ac-globalnav\" class=\"no-js\" role=\"navigation\" aria-label=\"Global\" data-hires=\"false\" data-analytics-region=\"global nav\" lang=\"en-US\" dir=\"ltr\" data-www-domain=\"www.apple.com\" data-store-locale=\"us\" data-store-root-path=\"/us\" data-store-api=\"/[storefront]/shop/bag/status\" data-search-locale=\"en_US\" data-search-locale=\"en_US\" data-search-suggestions-api=\"/search-services/suggestions/\" data-search-defaultlinks-api=\"/search-services/suggestions/defaultlinks/\">\\n\\t<div class=\"ac-gn-content\">\\n\\t\\t<ul class=\"ac-gn-header\">\\n\\t\\t\\t<li class=\"ac-gn-item ac-gn-menuicon\">\\n\\t\\t\\t\\t<label class=\"ac-gn-menuicon-label\" for=\"ac-gn-menustate\" aria-hidden=\"true\">\\n\\t\\t\\t\\t\\t<span class=\"ac-gn-menuicon-bread ac-gn-menuicon-bread-top\">\\n\\t\\t\\t\\t\\t\\t<span class=\"ac-gn-menuicon-bread-crust ac-gn-menuicon-bread-crust-top\"></span>\\n\\t\\t\\t\\t\\t</span>\\n\\t\\t\\t\\t\\t<span class=\"ac-gn-menuicon-bread ac-gn-menuicon-bread-bottom\">\\n\\t\\t\\t\\t\\t\\t<span class=\"ac-gn-menuicon-bread-crust ac-gn-menuicon-bread-crust-bottom\"></span>\\n\\t\\t\\t\\t\\t</span>\\n\\t\\t\\t\\t</label>\\n\\t\\t\\t\\t<a href=\"#ac-gn-menustate\" role=\"button\" class=\"ac-gn-menuanchor ac-gn-menuanchor-open\" id=\"ac-gn-menuanchor-open\">\\n\\t\\t\\t\\t\\t<span class=\"ac-gn-menuanchor-label\">Global Nav Open Menu</span>\\n\\t\\t\\t\\t</a>\\n\\t\\t\\t\\t<a href=\"#\" role=\"button\" class=\"ac-gn-menuanchor ac-gn-menuanchor-close\" id=\"ac-gn-menuanchor-close\">\\n\\t\\t\\t\\t\\t<span class=\"ac-gn-menuanchor-label\">Global Nav Close Menu</span>\\n\\t\\t\\t\\t</a>\\n\\t\\t\\t</li>\\n\\t\\t\\t<li class=\"ac-gn-item ac-gn-apple\">\\n\\t\\t\\t\\t<a class=\"ac-gn-link ac-gn-link-apple\" href=\"/\" data-analytics-title=\"apple home\" id=\"ac-gn-firstfocus-small\">\\n\\t\\t\\t\\t\\t<span class=\"ac-gn-link-text\">Apple</span>\\n\\t\\t\\t\\t</a>\\n\\t\\t\\t</li>\\n\\t\\t\\t<li class=\"ac-gn-item ac-gn-bag ac-gn-bag-small\" id=\"ac-gn-bag-small\">\\n\\t\\t\\t\\t<div class=\"ac-gn-bag-wrapper\">\\n\\t\\t\\t\\t\\t<a class=\"ac-gn-link ac-gn-link-bag\" href=\"/us/shop/goto/bag\" data-analytics-title=\"bag\" data-analytics-click=\"bag\" aria-label=\"Shopping Bag\" data-string-badge=\"Shopping Bag with item count :\">\\n\\t\\t\\t\\t\\t\\t<span class=\"ac-gn-link-text\">Shopping Bag</span>\\n\\t\\t\\t\\t\\t</a>\\n\\t\\t\\t\\t\\t<span class=\"ac-gn-bag-badge\">\\n\\t\\t\\t\\t\\t\\t<span class=\"ac-gn-bag-badge-separator\"></span>\\n\\t\\t\\t\\t\\t<span class=\"ac-gn-bag-badge-number\"></span>\\n\\t\\t\\t\\t\\t<span class=\"ac-gn-bag-badge-unit\">+</span>\\n\\t\\t\\t\\t\\t</span>\\n\\t\\t\\t\\t</div>\\n\\t\\t\\t\\t<span class=\"ac-gn-bagview-caret ac-gn-bagview-caret-large\"></span>\\n\\t\\t\\t</li>\\n\\t\\t</ul>\\n\\t\\t<div class=\"ac-gn-search-placeholder-container\" role=\"search\">\\n\\t\\t\\t<div class=\"ac-gn-search ac-gn-search-small\">\\n\\t\\t\\t\\t<a id=\"ac-gn-link-search-small\" class=\"ac-gn-link\" href=\"/us/search\" data-analytics-title=\"search\" data-analytics-click=\"search\" data-analytics-intrapage-link aria-label=\"Search apple.com\">\\n\\t\\t\\t\\t\\t<div class=\"ac-gn-search-placeholder-bar\">\\n\\t\\t\\t\\t\\t\\t<div class=\"ac-gn-search-placeholder-input\">\\n\\t\\t\\t\\t\\t\\t\\t<div class=\"ac-gn-search-placeholder-input-text\" aria-hidden=\"true\">\\n\\t\\t\\t\\t\\t\\t\\t\\t<div class=\"ac-gn-link-search ac-gn-search-placeholder-input-icon\"></div>\\n\\t\\t\\t\\t\\t\\t\\t\\t<span class=\"ac-gn-search-placeholder\">Search apple.com</span>\\n\\t\\t\\t\\t\\t\\t\\t</div>\\n\\t\\t\\t\\t\\t\\t</div>\\n\\t\\t\\t\\t\\t\\t<div class=\"ac-gn-searchview-close ac-gn-searchview-close-small ac-gn-search-placeholder-searchview-close\">\\n\\t\\t\\t\\t\\t\\t\\t<span class=\"ac-gn-searchview-close-cancel\" aria-hidden=\"true\">Cancel</span>\\n\\t\\t\\t\\t\\t\\t</div>\\n\\t\\t\\t\\t\\t</div>\\n\\t\\t\\t\\t</a>\\n\\t\\t\\t</div>\\n\\t\\t</div>\\n\\t\\t<ul class=\"ac-gn-list\">\\n\\t\\t\\t<li class=\"ac-gn-item ac-gn-apple\">\\n\\t\\t\\t\\t<a class=\"ac-gn-link ac-gn-link-apple\" href=\"/\" data-analytics-title=\"apple home\" id=\"ac-gn-firstfocus\">\\n\\t\\t\\t\\t\\t\\t<span class=\"ac-gn-link-text\">Apple</span>\\n\\t\\t\\t\\t\\t</a>\\n\\t\\t\\t</li>\\n\\t\\t\\t<li class=\"ac-gn-item ac-gn-item-menu ac-gn-mac\">\\n\\t\\t\\t\\t<a class=\"ac-gn-link ac-gn-link-mac\" href=\"/mac/\" data-analytics-title=\"mac\">\\n\\t\\t\\t\\t\\t\\t<span class=\"ac-gn-link-text\">Mac</span>\\n\\t\\t\\t\\t\\t</a>\\n\\t\\t\\t</li>\\n\\t\\t\\t<li class=\"ac-gn-item ac-gn-item-menu ac-gn-ipad\">\\n\\t\\t\\t\\t<a class=\"ac-gn-link ac-gn-link-ipad\" href=\"/ipad/\" data-analytics-title=\"ipad\">\\n\\t\\t\\t\\t\\t\\t<span class=\"ac-gn-link-text\">iPad</span>\\n\\t\\t\\t\\t\\t</a>\\n\\t\\t\\t</li>\\n\\t\\t\\t<li class=\"ac-gn-item ac-gn-item-menu ac-gn-iphone\">\\n\\t\\t\\t\\t<a class=\"ac-gn-link ac-gn-link-iphone\" href=\"/iphone/\" data-analytics-title=\"iphone\">\\n\\t\\t\\t\\t\\t\\t<span class=\"ac-gn-link-text\">iPhone</span>\\n\\t\\t\\t\\t\\t</a>\\n\\t\\t\\t</li>\\n\\t\\t\\t<li class=\"ac-gn-item ac-gn-item-menu ac-gn-watch\">\\n\\t\\t\\t\\t<a class=\"ac-gn-link ac-gn-link-watch\" href=\"/watch/\" data-analytics-title=\"watch\">\\n\\t\\t\\t\\t\\t\\t<span class=\"ac-gn-link-text\">Watch</span>\\n\\t\\t\\t\\t\\t</a>\\n\\t\\t\\t</li>\\n\\t\\t\\t<li class=\"ac-gn-item ac-gn-item-menu ac-gn-tv\">\\n\\t\\t\\t\\t<a class=\"ac-gn-link ac-gn-link-tv\" href=\"/tv/\" data-analytics-title=\"tv\">\\n\\t\\t\\t\\t\\t\\t<span class=\"ac-gn-link-text\">TV</span>\\n\\t\\t\\t\\t\\t</a>\\n\\t\\t\\t</li>\\n\\t\\t\\t<li class=\"ac-gn-item ac-gn-item-menu ac-gn-music\">\\n\\t\\t\\t\\t<a class=\"ac-gn-link ac-gn-link-music\" href=\"/music/\" data-analytics-title=\"music\">\\n\\t\\t\\t\\t\\t\\t<span class=\"ac-gn-link-text\">Music</span>\\n\\t\\t\\t\\t\\t</a>\\n\\t\\t\\t</li>\\n\\t\\t\\t<li class=\"ac-gn-item ac-gn-item-menu ac-gn-support\">\\n\\t\\t\\t\\t<a class=\"ac-gn-link ac-gn-link-support\" href=\"https://support.apple.com\" data-analytics-title=\"support\">\\n\\t\\t\\t\\t\\t\\t<span class=\"ac-gn-link-text\">Support</span>\\n\\t\\t\\t\\t\\t</a>\\n\\t\\t\\t</li>\\n\\t\\t\\t<li class=\"ac-gn-item ac-gn-item-menu ac-gn-search\" role=\"search\">\\n\\t\\t\\t\\t<a id=\"ac-gn-link-search\" class=\"ac-gn-link ac-gn-link-search\" href=\"/us/search\" data-analytics-title=\"search\" data-analytics-click=\"search\" data-analytics-intrapage-link aria-label=\"Search apple.com\"></a>\\n\\t\\t\\t</li>\\n\\t\\t\\t<li class=\"ac-gn-item ac-gn-bag\" id=\"ac-gn-bag\">\\n\\t\\t\\t\\t<div class=\"ac-gn-bag-wrapper\">\\n\\t\\t\\t\\t\\t<a class=\"ac-gn-link ac-gn-link-bag\" href=\"/us/shop/goto/bag\" data-analytics-title=\"bag\" data-analytics-click=\"bag\" aria-label=\"Shopping Bag\" data-string-badge=\"Shopping Bag with item count : {%BAGITEMCOUNT%}\">\\n\\t\\t\\t\\t\\t\\t\\t<span class=\"ac-gn-link-text\">Shopping Bag</span>\\n\\t\\t\\t\\t\\t\\t</a>\\n\\t\\t\\t\\t\\t<span class=\"ac-gn-bag-badge\" aria-hidden=\"true\">\\n\\t\\t\\t\\t\\t\\t\\t\\t<span class=\"ac-gn-bag-badge-separator\"></span>\\n\\t\\t\\t\\t\\t<span class=\"ac-gn-bag-badge-number\"></span>\\n\\t\\t\\t\\t\\t<span class=\"ac-gn-bag-badge-unit\">+</span>\\n\\t\\t\\t\\t\\t</span>\\n\\t\\t\\t\\t</div>\\n\\t\\t\\t\\t<span class=\"ac-gn-bagview-caret ac-gn-bagview-caret-large\"></span>\\n\\t\\t\\t</li>\\n\\t\\t</ul>\\n\\t\\t<aside id=\"ac-gn-searchview\" class=\"ac-gn-searchview\" role=\"search\" data-analytics-region=\"search\">\\n\\t\\t\\t<div class=\"ac-gn-searchview-content\">\\n\\t\\t\\t\\t<div class=\"ac-gn-searchview-bar\">\\n\\t\\t\\t\\t\\t<div class=\"ac-gn-searchview-bar-wrapper\">\\n\\t\\t\\t\\t\\t\\t<form id=\"ac-gn-searchform\" class=\"ac-gn-searchform\" action=\"/us/search\" method=\"get\">\\n\\t\\t\\t\\t\\t\\t\\t<div class=\"ac-gn-searchform-wrapper\">\\n\\t\\t\\t\\t\\t\\t\\t\\t<input id=\"ac-gn-searchform-input\" class=\"ac-gn-searchform-input\" type=\"text\" aria-label=\"Search apple.com\" placeholder=\"Search apple.com\" autocorrect=\"off\" autocapitalize=\"off\" autocomplete=\"off\" spellcheck=\"false\" role=\"combobox\" aria-autocomplete=\"list\" aria-expanded=\"true\" aria-owns=\"quicklinks suggestions\" />\\n\\t\\t\\t\\t\\t\\t\\t\\t<input id=\"ac-gn-searchform-src\" type=\"hidden\" name=\"src\" value=\"globalnav\" />\\n\\t\\t\\t\\t\\t\\t\\t\\t<button id=\"ac-gn-searchform-submit\" class=\"ac-gn-searchform-submit\" type=\"submit\" disabled aria-label=\"Submit Search\"> </button>\\n\\t\\t\\t\\t\\t\\t\\t\\t<button id=\"ac-gn-searchform-reset\" class=\"ac-gn-searchform-reset\" type=\"reset\" disabled aria-label=\"Clear Search\">\\n\\t\\t\\t\\t\\t\\t\\t\\t\\t\\t<span class=\"ac-gn-searchform-reset-background\"></span>\\n\\t\\t\\t\\t\\t\\t\\t\\t\\t</button>\\n\\t\\t\\t\\t\\t\\t\\t</div>\\n\\t\\t\\t\\t\\t\\t</form>\\n\\t\\t\\t\\t\\t\\t<button id=\"ac-gn-searchview-close-small\" class=\"ac-gn-searchview-close ac-gn-searchview-close-small\" aria-label=\"Cancel Search\">\\n\\t\\t\\t\\t\\t\\t\\t\\t<span class=\"ac-gn-searchview-close-cancel\" aria-hidden=\"true\">\\n\\t\\t\\t\\t\\t\\t\\t\\t\\tCancel\\n\\t\\t\\t\\t\\t\\t\\t\\t</span>\\n\\t\\t\\t\\t\\t\\t\\t</button>\\n\\t\\t\\t\\t\\t</div>\\n\\t\\t\\t\\t</div>\\n\\t\\t\\t\\t<aside id=\"ac-gn-searchresults\" class=\"ac-gn-searchresults\" data-string-quicklinks=\"Quick Links\" data-string-suggestions=\"Suggested Searches\" data-string-noresults=\"\"></aside>\\n\\t\\t\\t</div>\\n\\t\\t\\t<button id=\"ac-gn-searchview-close\" class=\"ac-gn-searchview-close\" aria-label=\"Cancel Search\">\\n\\t\\t\\t\\t\\t<span class=\"ac-gn-searchview-close-wrapper\">\\n\\t\\t\\t\\t\\t\\t<span class=\"ac-gn-searchview-close-left\"></span>\\n\\t\\t\\t\\t\\t\\t<span class=\"ac-gn-searchview-close-right\"></span>\\n\\t\\t\\t\\t\\t</span>\\n\\t\\t\\t\\t</button>\\n\\t\\t</aside>\\n\\t\\t<aside class=\"ac-gn-bagview\" data-analytics-region=\"bag\">\\n\\t\\t\\t<div class=\"ac-gn-bagview-scrim\">\\n\\t\\t\\t\\t<span class=\"ac-gn-bagview-caret ac-gn-bagview-caret-small\"></span>\\n\\t\\t\\t</div>\\n\\t\\t\\t<div class=\"ac-gn-bagview-content\" id=\"ac-gn-bagview-content\">\\n\\t\\t\\t</div>\\n\\t\\t</aside>\\n\\t</div>\\n</nav>\\n<div class=\"ac-gn-blur\"></div>\\n<div id=\"ac-gn-curtain\" class=\"ac-gn-curtain\"></div>\\n<div id=\"ac-gn-placeholder\" class=\"ac-nav-placeholder\"></div>\\n\\n<script type=\"text/javascript\" src=\"/ac/globalnav/6/en_US/scripts/ac-globalnav.built.js\"></script>\\n\\n\\t\\n\\n<script src=\"/metrics/ac-analytics/2.12.0/scripts/ac-analytics.js\" type=\"text/javascript\" charset=\"utf-8\"></script>\\n\\n\\n\\t<main  class=\"main\"  role=\"main\">\\n\\n\\t\\t\\t\\n\\t\\t\\t\\n\\t\\t\\t<section\\n\\t\\t\\t\\t class=\"homepage-section collection-module\" \\n\\t\\t\\t\\t\\n\\t\\t\\t\\tdata-module-template=\"ribbon\"\\n\\t\\t\\t\\tdata-analytics-region=\"ribbon\"\\n\\t\\t\\t>\\n\\t\\t\\t\\t\\n\\t\\t\\t\\t\\n\\t\\t\\t\\t\\n\\t\\t\\t\\t\\n\\t\\t\\t\\t\\t\\n\\t\\t\\t\\t\\t\\t<div\\n\\t\\t\\t\\t\\t\\t\\t\\n\\t\\t\\t\\t\\t\\t\\t\\n\\t\\t\\t\\t\\t\\t\\tdata-unit-id=\"covid-19\"\\n\\t\\t\\t\\t\\t\\t\\tdata-analytics-section-engagement=\"name:ribbon-covid-19\"\\n\\t\\t\\t\\t\\t\\t>\\n\\t\\t\\t\\t\\t\\t\\t<div class=\"module-content\">\\n\\t\\t\\t\\t\\t\\t\\t\\t<div class=\"ribbon-covid-19\">\\n\\t\\t\\t\\t\\t\\t\\t\\t\\t<div class=\"section-content section-content-covid\">\\n\\t\\t\\t\\t\\t\\t\\t\\t\\t\\t<p>\\n<style>\\n\\n.main [data-module-template=\"ribbon\"] [data-unit-id=\"covid-19\"] .section-content-covid {\\n\\twidth: 100%;\\n\\tmax-width: 100%;\\n}\\n\\n/* large */\\n.ribbon-covid-19 {\\n    background-color: #f5f5f7;\\n    display: flex;\\n\\talign-items: center;\\n}\\n\\n.covid-ribbon-copy {\\n\\tfont-size: 14px;\\n\\tmargin-left: auto;\\n\\tmargin-right: auto;\\n\\tdisplay: inline-block;\\n\\tpadding: 12px 0;\\n}\\n\\n.covid-ribbon-copy a {\\n\\tcolor: #06c;\\n}\\n\\n.ribbon-link {\\n\\twhite-space:nowrap;\\n}\\n\\n/* medium */\\n@media screen and (max-width: 1068px) and (min-width: 735px) {\\n\\t.covid-ribbon-copy.variant {\\n\\t\\tpadding-right: 20px;\\n\\t\\tpadding-left: 20px;\\n\\t\\tmax-width: 740px;\\n\\t}\\n}\\n\\n/* small */\\n@media only screen and (max-width: 734px) {\\n\\t.covid-ribbon-copy {\\n\\t\\twidth: 95%;\\n\\t\\tmax-width: 620px;\\n\\t\\tpadding: 10px 0;\\n\\t}\\n}\\n</style>\\n\\n<span class=\"covid-ribbon-copy variant\"><a href=\"/us/shop/goto/shop\" target=\"_self\" data-analytics-region=\"shop online\" data-analytics-title=\"Shop online\">Shop online</a> and get Specialist help, free no&#8209;contact delivery, and more. <br class=\"medium-hide\">Some of our retail stores are temporarily closed or offering limited services. Before\\xa0you visit, <a href=\"/retail/\" target=\"_self\" data-analytics-region=\"check your store’s status\" data-analytics-title=\"check your store’s status\">check your store’s\\xa0status</a>.</span></p>\\n\\t\\t\\t\\t\\t\\t\\t\\t\\t</div>\\n\\t\\t\\t\\t\\t\\t\\t\\t</div>\\n\\t\\t\\t\\t\\t\\t\\t</div>\\n\\t\\t\\t\\t\\t\\t</div>\\n\\t\\t\\t\\t\\n\\t\\t\\t\\t\\n\\t\\t\\t</section>\\n\\t\\t\\t\\n\\t\\t\\t<section\\n\\t\\t\\t\\t class=\"homepage-section collection-module\" \\n\\t\\t\\t\\t\\n\\t\\t\\t\\tdata-module-template=\"heroes\"\\n\\t\\t\\t\\tdata-analytics-region=\"hero\"\\n\\t\\t\\t>\\n\\t\\t\\t\\t\\n\\t\\t\\t\\t\\n\\t\\t\\t\\t\\n\\t\\t\\t\\t\\n\\t\\t\\t\\t\\n\\t\\t\\t\\t\\n\\t\\t\\t\\t\\t\\n\\t\\t\\t\\t\\t\\t<div\\n\\t\\t\\t\\t\\t\\t\\t\\n\\t\\t\\t\\t\\t\\t\\t\\n\\t\\t\\t\\t\\t\\t\\tdata-unit-id=\"iphone-12\"\\n\\t\\t\\t\\t\\t\\t\\tdata-analytics-section-engagement=\"name:hero-iphone-12\"\\n\\t\\t\\t\\t\\t\\t>\\n\\t\\t\\t\\t\\t\\t\\t<div class=\"module-content\">\\n\\t\\t\\t\\t\\t\\t\\t\\t\\n\\t\\t\\t\\t\\t\\t\\t\\t<div\\n\\t\\t\\t\\t\\t\\t\\t\\t\\t class=\"unit-wrapper\" \\n\\t\\t\\t\\t\\t\\t\\t\\t\\t\\n\\t\\t\\t\\t\\t\\t\\t\\t>\\n\\t\\t\\t\\t\\t\\t\\t\\t\\t\\t<a \\n\\t\\t\\t\\t\\t\\t\\t\\t\\t\\t\\t class=\"unit-link\" \\n\\t\\t\\t\\t\\t\\t\\t\\t\\t\\t\\t\\n\\t\\t\\t\\t\\t\\t\\t\\t\\t\\t\\thref=\"/iphone-12/\" target=\"_self\" rel=\"follow\" data-analytics-region=\"learn more\"\\n\\t\\t\\t\\t\\t\\t\\t\\t\\t\\t\\t\\n\\t\\t\\t\\t\\t\\t\\t\\t\\t\\t>&nbsp;</a>\\n\\t\\t\\t\\t\\t\\t\\t\\t\\t<div class=\"unit-copy-wrapper\">\\n\\t\\t\\t\\t\\t\\t\\t\\t\\t\\t\\n\\t\\t\\t\\t\\t\\t\\t\\t\\t\\t\\t\\t\\t<h2\\n\\t\\t\\t\\t\\t\\t\\t\\t\\t\\t\\t\\t\\t\\t class=\"headline\" \\n\\t\\t\\t\\t\\t\\t\\t\\t\\t\\t\\t\\t\\t\\t\\n\\t\\t\\t\\t\\t\\t\\t\\t\\t\\t\\t\\t\\t\\t\\n\\t\\t\\t\\t\\t\\t\\t\\t\\t\\t\\t\\t\\t\\t\\n\\t\\t\\t\\t\\t\\t\\t\\t\\t\\t\\t\\t\\t\\t\\n\\t\\t\\t\\t\\t\\t\\t\\t\\t\\t\\t\\t\\t\\t\\n\\t\\t\\t\\t\\t\\t\\t\\t\\t\\t\\t\\t\\t>iPhone 12</h2>\\n\\t\\t\\t\\t\\t\\t\\t\\t\\t\\t\\t\\t\\t<h3\\n\\t\\t\\t\\t\\t\\t\\t\\t\\t\\t\\t\\t\\t\\t class=\"subhead\" \\n\\t\\t\\t\\t\\t\\t\\t\\t\\t\\t\\t\\t\\t\\t\\n\\t\\t\\t\\t\\t\\t\\t\\t\\t\\t\\t\\t\\t\\t\\n\\t\\t\\t\\t\\t\\t\\t\\t\\t\\t\\t\\t\\t\\t\\n\\t\\t\\t\\t\\t\\t\\t\\t\\t\\t\\t\\t\\t\\t\\n\\t\\t\\t\\t\\t\\t\\t\\t\\t\\t\\t\\t\\t\\trole=\"presentation\"\\n\\t\\t\\t\\t\\t\\t\\t\\t\\t\\t\\t\\t\\t>Blast past fast.</h3>\\n\\t\\t\\t\\t\\t\\t\\t\\t\\t\\t\\n\\t\\t\\t\\t\\t\\t\\t\\t\\t\\t\\t<div class=\"pricing-info\">\\n\\t\\t\\t\\t\\t\\t\\t\\t\\t\\t\\t\\t<p class=\"price price-with-carrier\">\\n\\t\\t\\t\\t\\t\\t\\t\\t\\t\\t\\t\\t\\t<span\\n\\t\\t\\t\\t\\t\\t\\t\\t\\t\\t\\t\\t\\t\\taria-label=\"From twenty nine dollars and twelve cents per month or six hundred ninety nine dollars before trade in.\"\\n\\t\\t\\t\\t\\t\\t\\t\\t\\t\\t\\t\\t\\t\\trole=\"text\"\\n\\t\\t\\t\\t\\t\\t\\t\\t\\t\\t\\t\\t\\t>From $29.12/mo. or $699 before trade&#8209;in.</span><sup><a href=\"#footnote-1\" class=\"footnote\">1</a></sup>\\n\\t\\t\\t\\t\\t\\t\\t\\t\\t\\t\\t\\t</p>\\n\\t\\t\\t\\t\\t\\t\\t\\t\\t\\t\\t\\t<p class=\"carrier\">Buy directly from Apple with special carrier offers.</p>\\n\\t\\t\\t\\t\\t\\t\\t\\t\\t\\t\\t</div>\\n\\t\\t\\t\\t\\t\\t\\t\\t\\t\\t\\n\\t\\t\\t\\t\\t\\t\\t\\t\\t\\t\\n\\t\\t\\t\\t\\t\\t\\t\\t\\t\\t<div\\n\\t\\t\\t\\t\\t\\t\\t\\t\\t\\t\\t class=\"cta-links\" \\n\\t\\t\\t\\t\\t\\t\\t\\t\\t\\t\\t\\n\\t\\t\\t\\t\\t\\t\\t\\t\\t\\t>\\n\\t\\t\\t\\t\\t\\t\\t\\t\\t\\t\\t\\t\\t<a\\n\\t\\t\\t\\t\\t\\t\\t\\t\\t\\t\\t\\t\\t\\t class=\"icon icon-after icon-chevronright\" \\n\\t\\t\\t\\t\\t\\t\\t\\t\\t\\t\\t\\t\\t\\t\\n\\t\\t\\t\\t\\t\\t\\t\\t\\t\\t\\t\\t\\t\\thref=\"/iphone-12/\" target=\"_self\" rel=\"follow\" data-analytics-region=\"learn more\"\\n\\t\\t\\t\\t\\t\\t\\t\\t\\t\\t\\t\\t\\t\\tdata-analytics-title=\"Learn more about iPhone 12\"\\n\\t\\t\\t\\t\\t\\t\\t\\t\\t\\t\\t\\t\\t\\taria-label=\"Learn more about iPhone 12\"\\n\\t\\t\\t\\t\\t\\t\\t\\t\\t\\t\\t\\t\\t\\t\\n\\t\\t\\t\\t\\t\\t\\t\\t\\t\\t\\t\\t\\t>Learn more</a>\\n\\t\\t\\t\\t\\t\\t\\t\\t\\t\\t\\t\\t\\t<a\\n\\t\\t\\t\\t\\t\\t\\t\\t\\t\\t\\t\\t\\t\\t class=\"icon icon-after icon-chevronright\" \\n\\t\\t\\t\\t\\t\\t\\t\\t\\t\\t\\t\\t\\t\\t\\n\\t\\t\\t\\t\\t\\t\\t\\t\\t\\t\\t\\t\\t\\thref=\"/us/shop/goto/buy_iphone/iphone_12\" target=\"_self\" rel=\"follow\" data-analytics-region=\"buy\"\\n\\t\\t\\t\\t\\t\\t\\t\\t\\t\\t\\t\\t\\t\\tdata-analytics-title=\"Buy iPhone 12\"\\n\\t\\t\\t\\t\\t\\t\\t\\t\\t\\t\\t\\t\\t\\taria-label=\"Buy iPhone 12\"\\n\\t\\t\\t\\t\\t\\t\\t\\t\\t\\t\\t\\t\\t\\t\\n\\t\\t\\t\\t\\t\\t\\t\\t\\t\\t\\t\\t\\t>Buy</a>\\n\\t\\t\\t\\t\\t\\t\\t\\t\\t\\t</div>\\n\\t\\t\\t\\t\\t\\t\\t\\t\\t\\t\\n\\t\\t\\t\\t\\t\\t\\t\\t\\t</div>\\n\\t\\t\\t\\t\\t\\t\\t\\t\\t\\t<div\\n\\t\\t\\t\\t\\t\\t\\t\\t\\t\\t\\t class=\"unit-image-wrapper\" \\n\\t\\t\\t\\t\\t\\t\\t\\t\\t\\t\\t\\n\\t\\t\\t\\t\\t\\t\\t\\t\\t\\t>\\n\\t\\t\\t\\t\\t\\t\\t\\t\\t\\t\\t<figure\\n\\t\\t\\t\\t\\t\\t\\t\\t\\t\\t\\t\\t class=\"unit-image unit-image-iphone-12-iphone-12-us\" \\n\\t\\t\\t\\t\\t\\t\\t\\t\\t\\t\\t\\t\\n\\t\\t\\t\\t\\t\\t\\t\\t\\t\\t\\t\\t\\n\\t\\t\\t\\t\\t\\t\\t\\t\\t\\t\\t\\tdata-anim-lazy-image\\n\\t\\t\\t\\t\\t\\t\\t\\t\\t\\t\\t>\\n\\t\\t\\t\\t\\t\\t\\t\\t\\t\\t\\t</figure>\\n\\t\\t\\t\\t\\t\\t\\t\\t\\t\\t</div>\\n\\t\\t\\t\\t\\t\\t\\t\\t</div>\\n\\t\\t\\t\\t\\t\\t\\t</div>\\n\\t\\t\\t\\t\\t\\t</div>\\n\\t\\t\\t\\t\\t\\t<div\\n\\t\\t\\t\\t\\t\\t\\t\\n\\t\\t\\t\\t\\t\\t\\t\\n\\t\\t\\t\\t\\t\\t\\tdata-unit-id=\"iphone-12-pro\"\\n\\t\\t\\t\\t\\t\\t\\tdata-analytics-section-engagement=\"name:hero-iphone-12-pro\"\\n\\t\\t\\t\\t\\t\\t>\\n\\t\\t\\t\\t\\t\\t\\t<div class=\"module-content\">\\n\\t\\t\\t\\t\\t\\t\\t\\t\\n\\t\\t\\t\\t\\t\\t\\t\\t<div\\n\\t\\t\\t\\t\\t\\t\\t\\t\\t class=\"unit-wrapper theme-dark\" \\n\\t\\t\\t\\t\\t\\t\\t\\t\\t\\n\\t\\t\\t\\t\\t\\t\\t\\t>\\n\\t\\t\\t\\t\\t\\t\\t\\t\\t\\t<a \\n\\t\\t\\t\\t\\t\\t\\t\\t\\t\\t\\t class=\"unit-link\" \\n\\t\\t\\t\\t\\t\\t\\t\\t\\t\\t\\t\\n\\t\\t\\t\\t\\t\\t\\t\\t\\t\\t\\thref=\"/iphone-12-pro/\" target=\"_self\" rel=\"follow\" data-analytics-region=\"learn more\"\\n\\t\\t\\t\\t\\t\\t\\t\\t\\t\\t\\t\\n\\t\\t\\t\\t\\t\\t\\t\\t\\t\\t>&nbsp;</a>\\n\\t\\t\\t\\t\\t\\t\\t\\t\\t<div class=\"unit-copy-wrapper\">\\n\\t\\t\\t\\t\\t\\t\\t\\t\\t\\t\\n\\t\\t\\t\\t\\t\\t\\t\\t\\t\\t\\t\\t\\t<h2\\n\\t\\t\\t\\t\\t\\t\\t\\t\\t\\t\\t\\t\\t\\t class=\"headline\" \\n\\t\\t\\t\\t\\t\\t\\t\\t\\t\\t\\t\\t\\t\\t\\n\\t\\t\\t\\t\\t\\t\\t\\t\\t\\t\\t\\t\\t\\t\\n\\t\\t\\t\\t\\t\\t\\t\\t\\t\\t\\t\\t\\t\\t\\n\\t\\t\\t\\t\\t\\t\\t\\t\\t\\t\\t\\t\\t\\t\\n\\t\\t\\t\\t\\t\\t\\t\\t\\t\\t\\t\\t\\t\\t\\n\\t\\t\\t\\t\\t\\t\\t\\t\\t\\t\\t\\t\\t>iPhone 12 Pro</h2>\\n\\t\\t\\t\\t\\t\\t\\t\\t\\t\\t\\t\\t\\t<h3\\n\\t\\t\\t\\t\\t\\t\\t\\t\\t\\t\\t\\t\\t\\t class=\"subhead\" \\n\\t\\t\\t\\t\\t\\t\\t\\t\\t\\t\\t\\t\\t\\t\\n\\t\\t\\t\\t\\t\\t\\t\\t\\t\\t\\t\\t\\t\\t\\n\\t\\t\\t\\t\\t\\t\\t\\t\\t\\t\\t\\t\\t\\t\\n\\t\\t\\t\\t\\t\\t\\t\\t\\t\\t\\t\\t\\t\\t\\n\\t\\t\\t\\t\\t\\t\\t\\t\\t\\t\\t\\t\\t\\trole=\"presentation\"\\n\\t\\t\\t\\t\\t\\t\\t\\t\\t\\t\\t\\t\\t>It’s a leap year.</h3>\\n\\t\\t\\t\\t\\t\\t\\t\\t\\t\\t\\n\\t\\t\\t\\t\\t\\t\\t\\t\\t\\t\\t<div class=\"pricing-info\">\\n\\t\\t\\t\\t\\t\\t\\t\\t\\t\\t\\t\\t<p class=\"price price-with-carrier\">\\n\\t\\t\\t\\t\\t\\t\\t\\t\\t\\t\\t\\t\\t<span\\n\\t\\t\\t\\t\\t\\t\\t\\t\\t\\t\\t\\t\\t\\taria-label=\"From forty one dollars and sixty two cents per month or nine hundred ninety nine dollars before trade in.\"\\n\\t\\t\\t\\t\\t\\t\\t\\t\\t\\t\\t\\t\\t\\trole=\"text\"\\n\\t\\t\\t\\t\\t\\t\\t\\t\\t\\t\\t\\t\\t>From $41.62/mo. or $999 before trade&#8209;in.</span><sup><a href=\"#footnote-2\" class=\"footnote\">2</a></sup>\\n\\t\\t\\t\\t\\t\\t\\t\\t\\t\\t\\t\\t</p>\\n\\t\\t\\t\\t\\t\\t\\t\\t\\t\\t\\t\\t<p class=\"carrier\">Buy directly from Apple with special carrier offers.</p>\\n\\t\\t\\t\\t\\t\\t\\t\\t\\t\\t\\t</div>\\n\\t\\t\\t\\t\\t\\t\\t\\t\\t\\t\\n\\t\\t\\t\\t\\t\\t\\t\\t\\t\\t\\n\\t\\t\\t\\t\\t\\t\\t\\t\\t\\t<div\\n\\t\\t\\t\\t\\t\\t\\t\\t\\t\\t\\t class=\"cta-links\" \\n\\t\\t\\t\\t\\t\\t\\t\\t\\t\\t\\t\\n\\t\\t\\t\\t\\t\\t\\t\\t\\t\\t>\\n\\t\\t\\t\\t\\t\\t\\t\\t\\t\\t\\t\\t\\t<a\\n\\t\\t\\t\\t\\t\\t\\t\\t\\t\\t\\t\\t\\t\\t class=\"icon icon-after icon-chevronright\" \\n\\t\\t\\t\\t\\t\\t\\t\\t\\t\\t\\t\\t\\t\\t\\n\\t\\t\\t\\t\\t\\t\\t\\t\\t\\t\\t\\t\\t\\thref=\"/iphone-12-pro/\" target=\"_self\" rel=\"follow\" data-analytics-region=\"learn more\"\\n\\t\\t\\t\\t\\t\\t\\t\\t\\t\\t\\t\\t\\t\\tdata-analytics-title=\"Learn more about iPhone 12 Pro\"\\n\\t\\t\\t\\t\\t\\t\\t\\t\\t\\t\\t\\t\\t\\taria-label=\"Learn more about iPhone 12 Pro\"\\n\\t\\t\\t\\t\\t\\t\\t\\t\\t\\t\\t\\t\\t\\t\\n\\t\\t\\t\\t\\t\\t\\t\\t\\t\\t\\t\\t\\t>Learn more</a>\\n\\t\\t\\t\\t\\t\\t\\t\\t\\t\\t\\t\\t\\t<a\\n\\t\\t\\t\\t\\t\\t\\t\\t\\t\\t\\t\\t\\t\\t class=\"icon icon-after icon-chevronright\" \\n\\t\\t\\t\\t\\t\\t\\t\\t\\t\\t\\t\\t\\t\\t\\n\\t\\t\\t\\t\\t\\t\\t\\t\\t\\t\\t\\t\\t\\thref=\"/us/shop/goto/buy_iphone/iphone_12_pro\" target=\"_self\" rel=\"follow\" data-analytics-region=\"buy\"\\n\\t\\t\\t\\t\\t\\t\\t\\t\\t\\t\\t\\t\\t\\tdata-analytics-title=\"Buy iPhone 12 Pro\"\\n\\t\\t\\t\\t\\t\\t\\t\\t\\t\\t\\t\\t\\t\\taria-label=\"Buy iPhone 12 Pro\"\\n\\t\\t\\t\\t\\t\\t\\t\\t\\t\\t\\t\\t\\t\\t\\n\\t\\t\\t\\t\\t\\t\\t\\t\\t\\t\\t\\t\\t>Buy</a>\\n\\t\\t\\t\\t\\t\\t\\t\\t\\t\\t</div>\\n\\t\\t\\t\\t\\t\\t\\t\\t\\t\\t\\n\\t\\t\\t\\t\\t\\t\\t\\t\\t</div>\\n\\t\\t\\t\\t\\t\\t\\t\\t\\t\\t<div\\n\\t\\t\\t\\t\\t\\t\\t\\t\\t\\t\\t class=\"unit-image-wrapper\" \\n\\t\\t\\t\\t\\t\\t\\t\\t\\t\\t\\t\\n\\t\\t\\t\\t\\t\\t\\t\\t\\t\\t>\\n\\t\\t\\t\\t\\t\\t\\t\\t\\t\\t\\t<figure\\n\\t\\t\\t\\t\\t\\t\\t\\t\\t\\t\\t\\t class=\"unit-image unit-image-iphone-12-pro-iphone-12-pro-us\" \\n\\t\\t\\t\\t\\t\\t\\t\\t\\t\\t\\t\\t\\n\\t\\t\\t\\t\\t\\t\\t\\t\\t\\t\\t\\t\\n\\t\\t\\t\\t\\t\\t\\t\\t\\t\\t\\t\\tdata-anim-lazy-image\\n\\t\\t\\t\\t\\t\\t\\t\\t\\t\\t\\t>\\n\\t\\t\\t\\t\\t\\t\\t\\t\\t\\t\\t</figure>\\n\\t\\t\\t\\t\\t\\t\\t\\t\\t\\t</div>\\n\\t\\t\\t\\t\\t\\t\\t\\t</div>\\n\\t\\t\\t\\t\\t\\t\\t</div>\\n\\t\\t\\t\\t\\t\\t</div>\\n\\t\\t\\t\\t\\t\\t<div\\n\\t\\t\\t\\t\\t\\t\\t\\n\\t\\t\\t\\t\\t\\t\\t\\n\\t\\t\\t\\t\\t\\t\\tdata-unit-id=\"watch-series-6\"\\n\\t\\t\\t\\t\\t\\t\\tdata-analytics-section-engagement=\"name:hero-watch-series-6\"\\n\\t\\t\\t\\t\\t\\t>\\n\\t\\t\\t\\t\\t\\t\\t<div class=\"module-content\">\\n\\t\\t\\t\\t\\t\\t\\t\\t\\n\\t\\t\\t\\t\\t\\t\\t\\t<div\\n\\t\\t\\t\\t\\t\\t\\t\\t\\t class=\"unit-wrapper theme-dark\" \\n\\t\\t\\t\\t\\t\\t\\t\\t\\t\\n\\t\\t\\t\\t\\t\\t\\t\\t>\\n\\t\\t\\t\\t\\t\\t\\t\\t\\t\\t<a \\n\\t\\t\\t\\t\\t\\t\\t\\t\\t\\t\\t class=\"unit-link\" \\n\\t\\t\\t\\t\\t\\t\\t\\t\\t\\t\\t\\n\\t\\t\\t\\t\\t\\t\\t\\t\\t\\t\\thref=\"/apple-watch-series-6/\" target=\"_self\" rel=\"follow\" data-analytics-region=\"learn more\"\\n\\t\\t\\t\\t\\t\\t\\t\\t\\t\\t\\t\\n\\t\\t\\t\\t\\t\\t\\t\\t\\t\\t>&nbsp;</a>\\n\\t\\t\\t\\t\\t\\t\\t\\t\\t<div class=\"unit-copy-wrapper\">\\n\\t\\t\\t\\t\\t\\t\\t\\t\\t\\t\\n\\t\\t\\t\\t\\t\\t\\t\\t\\t\\t\\t\\t\\t<h2\\n\\t\\t\\t\\t\\t\\t\\t\\t\\t\\t\\t\\t\\t\\t class=\"logo-image logo-image-watch-series-6-logo-hero headline\" \\n\\t\\t\\t\\t\\t\\t\\t\\t\\t\\t\\t\\t\\t\\t\\n\\t\\t\\t\\t\\t\\t\\t\\t\\t\\t\\t\\t\\t\\t\\n\\t\\t\\t\\t\\t\\t\\t\\t\\t\\t\\t\\t\\t\\t\\n\\t\\t\\t\\t\\t\\t\\t\\t\\t\\t\\t\\t\\t\\t\\n\\t\\t\\t\\t\\t\\t\\t\\t\\t\\t\\t\\t\\t\\t\\n\\t\\t\\t\\t\\t\\t\\t\\t\\t\\t\\t\\t\\t><span class=\"visuallyhidden\">Apple Watch Series 6</span></h2>\\n\\t\\t\\t\\t\\t\\t\\t\\t\\t\\t\\t<h3\\n\\t\\t\\t\\t\\t\\t\\t\\t\\t\\t\\t\\t class=\"subhead\" \\n\\t\\t\\t\\t\\t\\t\\t\\t\\t\\t\\t\\t\\n\\t\\t\\t\\t\\t\\t\\t\\t\\t\\t\\t\\t\\n\\t\\t\\t\\t\\t\\t\\t\\t\\t\\t\\t\\t\\n\\t\\t\\t\\t\\t\\t\\t\\t\\t\\t\\t\\t\\n\\t\\t\\t\\t\\t\\t\\t\\t\\t\\t\\t\\trole=\"text\"\\n\\t\\t\\t\\t\\t\\t\\t\\t\\t\\t\\t>The future of health is on your wrist.</h3>\\n\\t\\t\\t\\t\\t\\t\\t\\t\\t\\t\\n\\t\\t\\t\\t\\t\\t\\t\\t\\t\\t\\n\\t\\t\\t\\t\\t\\t\\t\\t\\t\\t<div\\n\\t\\t\\t\\t\\t\\t\\t\\t\\t\\t\\t class=\"cta-links\" \\n\\t\\t\\t\\t\\t\\t\\t\\t\\t\\t\\t\\n\\t\\t\\t\\t\\t\\t\\t\\t\\t\\t>\\n\\t\\t\\t\\t\\t\\t\\t\\t\\t\\t\\t\\t\\t<a\\n\\t\\t\\t\\t\\t\\t\\t\\t\\t\\t\\t\\t\\t\\t class=\"icon icon-after icon-chevronright\" \\n\\t\\t\\t\\t\\t\\t\\t\\t\\t\\t\\t\\t\\t\\t\\n\\t\\t\\t\\t\\t\\t\\t\\t\\t\\t\\t\\t\\t\\thref=\"/apple-watch-series-6/\" target=\"_self\" rel=\"follow\" data-analytics-region=\"learn more\"\\n\\t\\t\\t\\t\\t\\t\\t\\t\\t\\t\\t\\t\\t\\tdata-analytics-title=\"Learn more about Apple Watch Series 6\"\\n\\t\\t\\t\\t\\t\\t\\t\\t\\t\\t\\t\\t\\t\\taria-label=\"Learn more about Apple Watch Series 6\"\\n\\t\\t\\t\\t\\t\\t\\t\\t\\t\\t\\t\\t\\t\\t\\n\\t\\t\\t\\t\\t\\t\\t\\t\\t\\t\\t\\t\\t>Learn more</a>\\n\\t\\t\\t\\t\\t\\t\\t\\t\\t\\t\\t\\t\\t<a\\n\\t\\t\\t\\t\\t\\t\\t\\t\\t\\t\\t\\t\\t\\t class=\"icon icon-after icon-chevronright\" \\n\\t\\t\\t\\t\\t\\t\\t\\t\\t\\t\\t\\t\\t\\t\\n\\t\\t\\t\\t\\t\\t\\t\\t\\t\\t\\t\\t\\t\\thref=\"/us/shop/goto/apple_watch\" target=\"_self\" rel=\"follow\" data-analytics-region=\"buy\"\\n\\t\\t\\t\\t\\t\\t\\t\\t\\t\\t\\t\\t\\t\\tdata-analytics-title=\"Buy Apple Watch Series 6\"\\n\\t\\t\\t\\t\\t\\t\\t\\t\\t\\t\\t\\t\\t\\taria-label=\"Buy Apple Watch Series 6\"\\n\\t\\t\\t\\t\\t\\t\\t\\t\\t\\t\\t\\t\\t\\t\\n\\t\\t\\t\\t\\t\\t\\t\\t\\t\\t\\t\\t\\t>Buy</a>\\n\\t\\t\\t\\t\\t\\t\\t\\t\\t\\t</div>\\n\\t\\t\\t\\t\\t\\t\\t\\t\\t\\t\\n\\t\\t\\t\\t\\t\\t\\t\\t\\t</div>\\n\\t\\t\\t\\t\\t\\t\\t\\t\\t\\t<div\\n\\t\\t\\t\\t\\t\\t\\t\\t\\t\\t\\t class=\"unit-image-wrapper\" \\n\\t\\t\\t\\t\\t\\t\\t\\t\\t\\t\\t\\n\\t\\t\\t\\t\\t\\t\\t\\t\\t\\t>\\n\\t\\t\\t\\t\\t\\t\\t\\t\\t\\t\\t<figure\\n\\t\\t\\t\\t\\t\\t\\t\\t\\t\\t\\t\\t class=\"unit-image unit-image-watch-series-6-hero\" \\n\\t\\t\\t\\t\\t\\t\\t\\t\\t\\t\\t\\t\\n\\t\\t\\t\\t\\t\\t\\t\\t\\t\\t\\t\\t\\n\\t\\t\\t\\t\\t\\t\\t\\t\\t\\t\\t\\tdata-anim-lazy-image\\n\\t\\t\\t\\t\\t\\t\\t\\t\\t\\t\\t>\\n\\t\\t\\t\\t\\t\\t\\t\\t\\t\\t\\t</figure>\\n\\t\\t\\t\\t\\t\\t\\t\\t\\t\\t</div>\\n\\t\\t\\t\\t\\t\\t\\t\\t</div>\\n\\t\\t\\t\\t\\t\\t\\t</div>\\n\\t\\t\\t\\t\\t\\t</div>\\n\\t\\t\\t\\t\\n\\t\\t\\t</section>\\n\\t\\t\\t\\n\\t\\t\\t<section\\n\\t\\t\\t\\t class=\"homepage-section collection-module\" \\n\\t\\t\\t\\t\\n\\t\\t\\t\\tdata-module-template=\"promos\"\\n\\t\\t\\t\\tdata-analytics-region=\"promo\"\\n\\t\\t\\t>\\n\\t\\t\\t\\t\\n\\t\\t\\t\\t\\n\\t\\t\\t\\t\\n\\t\\t\\t\\t\\n\\t\\t\\t\\t\\n\\t\\t\\t\\t\\n\\t\\t\\t\\t\\t\\n\\t\\t\\t\\t\\t\\t<div\\n\\t\\t\\t\\t\\t\\t\\t\\n\\t\\t\\t\\t\\t\\t\\t\\n\\t\\t\\t\\t\\t\\t\\tdata-unit-id=\"ipad-air\"\\n\\t\\t\\t\\t\\t\\t\\tdata-analytics-section-engagement=\"name:promo-ipad-air\"\\n\\t\\t\\t\\t\\t\\t>\\n\\t\\t\\t\\t\\t\\t\\t<div class=\"module-content\">\\n\\t\\t\\t\\t\\t\\t\\t\\t\\n\\t\\t\\t\\t\\t\\t\\t\\t<div\\n\\t\\t\\t\\t\\t\\t\\t\\t\\t class=\"unit-wrapper avail\" \\n\\t\\t\\t\\t\\t\\t\\t\\t\\t\\n\\t\\t\\t\\t\\t\\t\\t\\t>\\n\\t\\t\\t\\t\\t\\t\\t\\t\\t\\t<a \\n\\t\\t\\t\\t\\t\\t\\t\\t\\t\\t\\t class=\"unit-link\" \\n\\t\\t\\t\\t\\t\\t\\t\\t\\t\\t\\t\\n\\t\\t\\t\\t\\t\\t\\t\\t\\t\\t\\thref=\"/ipad-air/\" target=\"_self\" rel=\"follow\" data-analytics-region=\"learn more\"\\n\\t\\t\\t\\t\\t\\t\\t\\t\\t\\t\\t\\n\\t\\t\\t\\t\\t\\t\\t\\t\\t\\t>&nbsp;</a>\\n\\t\\t\\t\\t\\t\\t\\t\\t\\t<div class=\"unit-copy-wrapper\">\\n\\t\\t\\t\\t\\t\\t\\t\\t\\t\\t\\t<h4 class=\"headline-vo visuallyhidden\">iPad Air</h4>\\n\\t\\t\\t\\t\\t\\t\\t\\t\\t\\t\\t\\t\\t<h4\\n\\t\\t\\t\\t\\t\\t\\t\\t\\t\\t\\t\\t\\t\\t class=\"headline\" \\n\\t\\t\\t\\t\\t\\t\\t\\t\\t\\t\\t\\t\\t\\t\\n\\t\\t\\t\\t\\t\\t\\t\\t\\t\\t\\t\\t\\t\\t\\n\\t\\t\\t\\t\\t\\t\\t\\t\\t\\t\\t\\t\\t\\t\\n\\t\\t\\t\\t\\t\\t\\t\\t\\t\\t\\t\\t\\t\\t\\n\\t\\t\\t\\t\\t\\t\\t\\t\\t\\t\\t\\t\\t\\t\\n\\t\\t\\t\\t\\t\\t\\t\\t\\t\\t\\t\\t\\t>iPad Air</h4>\\n\\t\\t\\t\\t\\t\\t\\t\\t\\t\\t\\t\\t\\t<h5\\n\\t\\t\\t\\t\\t\\t\\t\\t\\t\\t\\t\\t\\t\\t class=\"subhead\" \\n\\t\\t\\t\\t\\t\\t\\t\\t\\t\\t\\t\\t\\t\\t\\n\\t\\t\\t\\t\\t\\t\\t\\t\\t\\t\\t\\t\\t\\t\\n\\t\\t\\t\\t\\t\\t\\t\\t\\t\\t\\t\\t\\t\\t\\n\\t\\t\\t\\t\\t\\t\\t\\t\\t\\t\\t\\t\\t\\t\\n\\t\\t\\t\\t\\t\\t\\t\\t\\t\\t\\t\\t\\t\\trole=\"presentation\"\\n\\t\\t\\t\\t\\t\\t\\t\\t\\t\\t\\t\\t\\t>Powerful. Colorful. Wonderful.</h5>\\n\\t\\t\\t\\t\\t\\t\\t\\t\\t\\t\\n\\t\\t\\t\\t\\t\\t\\t\\t\\t\\t\\n\\t\\t\\t\\t\\t\\t\\t\\t\\t\\t<div\\n\\t\\t\\t\\t\\t\\t\\t\\t\\t\\t\\t class=\"cta-links\" \\n\\t\\t\\t\\t\\t\\t\\t\\t\\t\\t\\t\\n\\t\\t\\t\\t\\t\\t\\t\\t\\t\\t>\\n\\t\\t\\t\\t\\t\\t\\t\\t\\t\\t\\t\\t\\t<a\\n\\t\\t\\t\\t\\t\\t\\t\\t\\t\\t\\t\\t\\t\\t class=\"icon icon-after icon-chevronright\" \\n\\t\\t\\t\\t\\t\\t\\t\\t\\t\\t\\t\\t\\t\\t\\n\\t\\t\\t\\t\\t\\t\\t\\t\\t\\t\\t\\t\\t\\thref=\"/ipad-air/\" target=\"_self\" rel=\"follow\" data-analytics-region=\"learn more\"\\n\\t\\t\\t\\t\\t\\t\\t\\t\\t\\t\\t\\t\\t\\tdata-analytics-title=\"Learn more about iPad Air\"\\n\\t\\t\\t\\t\\t\\t\\t\\t\\t\\t\\t\\t\\t\\taria-label=\"Learn more about iPad Air\"\\n\\t\\t\\t\\t\\t\\t\\t\\t\\t\\t\\t\\t\\t\\t\\n\\t\\t\\t\\t\\t\\t\\t\\t\\t\\t\\t\\t\\t>Learn more</a>\\n\\t\\t\\t\\t\\t\\t\\t\\t\\t\\t\\t\\t\\t<a\\n\\t\\t\\t\\t\\t\\t\\t\\t\\t\\t\\t\\t\\t\\t class=\"icon icon-after icon-chevronright\" \\n\\t\\t\\t\\t\\t\\t\\t\\t\\t\\t\\t\\t\\t\\t\\n\\t\\t\\t\\t\\t\\t\\t\\t\\t\\t\\t\\t\\t\\thref=\"/us/shop/goto/buy_ipad/ipad_air\" target=\"_self\" rel=\"follow\" data-analytics-region=\"buy\"\\n\\t\\t\\t\\t\\t\\t\\t\\t\\t\\t\\t\\t\\t\\tdata-analytics-title=\"Buy iPad Air\"\\n\\t\\t\\t\\t\\t\\t\\t\\t\\t\\t\\t\\t\\t\\taria-label=\"Buy iPad Air\"\\n\\t\\t\\t\\t\\t\\t\\t\\t\\t\\t\\t\\t\\t\\t\\n\\t\\t\\t\\t\\t\\t\\t\\t\\t\\t\\t\\t\\t>Buy</a>\\n\\t\\t\\t\\t\\t\\t\\t\\t\\t\\t</div>\\n\\t\\t\\t\\t\\t\\t\\t\\t\\t\\t\\n\\t\\t\\t\\t\\t\\t\\t\\t\\t</d'"
      ]
     },
     "execution_count": 101,
     "metadata": {},
     "output_type": "execute_result"
    }
   ],
   "source": [
    "# 데이터 프레임의 info를 확인합니다.\n",
    "df[\"html_code\"][1]"
   ]
  },
  {
   "cell_type": "code",
   "execution_count": 102,
   "metadata": {
    "tags": []
   },
   "outputs": [
    {
     "data": {
      "text/html": [
       "<div>\n",
       "<style scoped>\n",
       "    .dataframe tbody tr th:only-of-type {\n",
       "        vertical-align: middle;\n",
       "    }\n",
       "\n",
       "    .dataframe tbody tr th {\n",
       "        vertical-align: top;\n",
       "    }\n",
       "\n",
       "    .dataframe thead th {\n",
       "        text-align: right;\n",
       "    }\n",
       "</style>\n",
       "<table border=\"1\" class=\"dataframe\">\n",
       "  <thead>\n",
       "    <tr style=\"text-align: right;\">\n",
       "      <th></th>\n",
       "      <th>html_code</th>\n",
       "      <th>repu</th>\n",
       "    </tr>\n",
       "  </thead>\n",
       "  <tbody>\n",
       "    <tr>\n",
       "      <th>0</th>\n",
       "      <td>&lt;!DOCTYPE html&gt;\\n&lt;!--[if lt IE 7]&gt; &lt;html lang=...</td>\n",
       "      <td>malicious</td>\n",
       "    </tr>\n",
       "    <tr>\n",
       "      <th>1</th>\n",
       "      <td>\\n\\t\\n\\n\\n\\t\\n\\n\\t\\n\\n\\n\\t\\n\\n\\n\\t\\n\\n\\t\\n\\t\\t...</td>\n",
       "      <td>malicious</td>\n",
       "    </tr>\n",
       "    <tr>\n",
       "      <th>2</th>\n",
       "      <td>&lt;!DOCTYPE html&gt;\\n&lt;html lang=\"en\"&gt;\\n    &lt;head&gt;\\...</td>\n",
       "      <td>malicious</td>\n",
       "    </tr>\n",
       "    <tr>\n",
       "      <th>3</th>\n",
       "      <td>&lt;!DOCTYPE html&gt;&lt;html lang=\"en\"&gt;&lt;head&gt;&lt;style da...</td>\n",
       "      <td>malicious</td>\n",
       "    </tr>\n",
       "    <tr>\n",
       "      <th>4</th>\n",
       "      <td>&lt;!DOCTYPE html&gt;\\n\\n\\n    \\n    \\n    \\n    \\n ...</td>\n",
       "      <td>malicious</td>\n",
       "    </tr>\n",
       "    <tr>\n",
       "      <th>5</th>\n",
       "      <td>_x000D_\\n_x000D_\\n_x000D_\\n&lt;!DOCTYPE html&gt;_x00...</td>\n",
       "      <td>malicious</td>\n",
       "    </tr>\n",
       "    <tr>\n",
       "      <th>6</th>\n",
       "      <td>&lt;!doctype html&gt;\\n\\n&lt;html data-ytrk-page=\"HOME\"...</td>\n",
       "      <td>malicious</td>\n",
       "    </tr>\n",
       "    <tr>\n",
       "      <th>7</th>\n",
       "      <td>\\n\\t&lt;!DOCTYPE html&gt;\\n\\t&lt;html class=\"no-icon-fo...</td>\n",
       "      <td>malicious</td>\n",
       "    </tr>\n",
       "    <tr>\n",
       "      <th>8</th>\n",
       "      <td>&lt;!DOCTYPE html&gt;\\n&lt;html class=\"no-js\"&gt;\\n&lt;head&gt;\\...</td>\n",
       "      <td>malicious</td>\n",
       "    </tr>\n",
       "    <tr>\n",
       "      <th>9</th>\n",
       "      <td>&lt;!DOCTYPE html&gt;\\n&lt;html class=\"b-header--bl...</td>\n",
       "      <td>malicious</td>\n",
       "    </tr>\n",
       "    <tr>\n",
       "      <th>10</th>\n",
       "      <td>&lt;!DOCTYPE html&gt;\\n&lt;html lang=\"mul\" dir=\"ltr\"&gt;\\n...</td>\n",
       "      <td>malicious</td>\n",
       "    </tr>\n",
       "    <tr>\n",
       "      <th>11</th>\n",
       "      <td>_x000D_\\n_x000D_\\n&lt;!DOCTYPE html&gt;&lt;html lang=\"e...</td>\n",
       "      <td>malicious</td>\n",
       "    </tr>\n",
       "    <tr>\n",
       "      <th>12</th>\n",
       "      <td>&lt;!DOCTYPE html&gt;&lt;html lang=\"en\"&gt;&lt;head&gt;&lt;link rel...</td>\n",
       "      <td>malicious</td>\n",
       "    </tr>\n",
       "    <tr>\n",
       "      <th>13</th>\n",
       "      <td>&lt;!Doctype html&gt;_x000D_\\n&lt;html&gt; _x000D_\\n&lt;head&gt;...</td>\n",
       "      <td>malicious</td>\n",
       "    </tr>\n",
       "    <tr>\n",
       "      <th>14</th>\n",
       "      <td>&lt;html lang=\"en\"&gt;\\n\\n&lt;head&gt;\\n    &lt;title&gt;Verify ...</td>\n",
       "      <td>malicious</td>\n",
       "    </tr>\n",
       "    <tr>\n",
       "      <th>15</th>\n",
       "      <td>&lt;!doctype html&gt;&lt;html dir=\"ltr\" lang=\"ko-KR\"&gt;&lt;h...</td>\n",
       "      <td>malicious</td>\n",
       "    </tr>\n",
       "    <tr>\n",
       "      <th>16</th>\n",
       "      <td>&lt;HTML&gt;&lt;HEAD&gt;\\n&lt;TITLE&gt;Access Denied&lt;/TITLE&gt;\\n&lt;/...</td>\n",
       "      <td>malicious</td>\n",
       "    </tr>\n",
       "    <tr>\n",
       "      <th>17</th>\n",
       "      <td>&lt;!doctype html&gt;_x000D_\\n&lt;html xmlns=\"http://ww...</td>\n",
       "      <td>malicious</td>\n",
       "    </tr>\n",
       "    <tr>\n",
       "      <th>18</th>\n",
       "      <td>_x000D_\\n&lt;!DOCTYPE html&gt;_x000D_\\n_x000D_\\n&lt;htm...</td>\n",
       "      <td>malicious</td>\n",
       "    </tr>\n",
       "    <tr>\n",
       "      <th>19</th>\n",
       "      <td>&lt;!DOCTYPE html&gt;&lt;html lang=en&gt;&lt;head&gt;&lt;meta http-...</td>\n",
       "      <td>malicious</td>\n",
       "    </tr>\n",
       "    <tr>\n",
       "      <th>20</th>\n",
       "      <td>&lt;!DOCTYPE html&gt;&lt;html lang=\"en\"&gt;&lt;head&gt;&lt;style da...</td>\n",
       "      <td>benign</td>\n",
       "    </tr>\n",
       "    <tr>\n",
       "      <th>21</th>\n",
       "      <td>&lt;!doctype html&gt;&lt;html lang=\"en\"&gt;&lt;head&gt;&lt;title da...</td>\n",
       "      <td>benign</td>\n",
       "    </tr>\n",
       "    <tr>\n",
       "      <th>22</th>\n",
       "      <td>&lt;!DOCTYPE html&gt;\\n&lt;!--[if lt IE 8]&gt;      &lt;html ...</td>\n",
       "      <td>benign</td>\n",
       "    </tr>\n",
       "    <tr>\n",
       "      <th>23</th>\n",
       "      <td>\\n&lt;!DOCTYPE html&gt;\\n&lt;html id=\"js-context\" class...</td>\n",
       "      <td>benign</td>\n",
       "    </tr>\n",
       "    <tr>\n",
       "      <th>24</th>\n",
       "      <td>&lt;!DOCTYPE html&gt;&lt;html class=\"no-js\"&gt;&lt;head&gt;&lt;meta...</td>\n",
       "      <td>benign</td>\n",
       "    </tr>\n",
       "    <tr>\n",
       "      <th>25</th>\n",
       "      <td>_x000D_\\n_x000D_\\n_x000D_\\n&lt;!DOCTYPE html&gt;_x00...</td>\n",
       "      <td>benign</td>\n",
       "    </tr>\n",
       "    <tr>\n",
       "      <th>26</th>\n",
       "      <td>&lt;!DOCTYPE html&gt;_x000D_\\n&lt;html class=\" responsi...</td>\n",
       "      <td>benign</td>\n",
       "    </tr>\n",
       "    <tr>\n",
       "      <th>27</th>\n",
       "      <td>&lt;!DOCTYPE html&gt;&lt;html lang=\"en\"&gt;&lt;head&gt;&lt;meta cha...</td>\n",
       "      <td>benign</td>\n",
       "    </tr>\n",
       "    <tr>\n",
       "      <th>28</th>\n",
       "      <td>&lt;!DOCTYPE html&gt;\\n&lt;html lang=\"en\" xmlns:og=\"htt...</td>\n",
       "      <td>benign</td>\n",
       "    </tr>\n",
       "    <tr>\n",
       "      <th>29</th>\n",
       "      <td>\\n&lt;!DOCTYPE HTML&gt;\\n&lt;html lang=\"ko-KR\" xml:lang...</td>\n",
       "      <td>benign</td>\n",
       "    </tr>\n",
       "    <tr>\n",
       "      <th>30</th>\n",
       "      <td>&lt;!DOCTYPE html&gt;\\n&lt;html lang=\"en\"&gt;\\n&lt;head&gt;\\n  &lt;...</td>\n",
       "      <td>benign</td>\n",
       "    </tr>\n",
       "    <tr>\n",
       "      <th>31</th>\n",
       "      <td>&lt;!DOCTYPE html&gt;\\n&lt;html lang=\"pt-BR\"&gt; &lt;head&gt;&lt;ti...</td>\n",
       "      <td>benign</td>\n",
       "    </tr>\n",
       "    <tr>\n",
       "      <th>32</th>\n",
       "      <td>\\n&lt;!DOCTYPE HTML&gt;\\n\\n&lt;html ng-app=\"usr\" class=...</td>\n",
       "      <td>benign</td>\n",
       "    </tr>\n",
       "    <tr>\n",
       "      <th>33</th>\n",
       "      <td>&lt;!DOCTYPE html&gt;\\n&lt;html lang=\"en\" dir=\"ltr\" dat...</td>\n",
       "      <td>benign</td>\n",
       "    </tr>\n",
       "    <tr>\n",
       "      <th>34</th>\n",
       "      <td>&lt;!DOCTYPE html&gt;&lt;html lang=\"en\" itemscope=\"\" it...</td>\n",
       "      <td>benign</td>\n",
       "    </tr>\n",
       "    <tr>\n",
       "      <th>35</th>\n",
       "      <td>\\n\\n\\n    &lt;!DOCTYPE HTML&gt;\\n    &lt;html class=\"sp...</td>\n",
       "      <td>benign</td>\n",
       "    </tr>\n",
       "    <tr>\n",
       "      <th>36</th>\n",
       "      <td>&lt;!doctype html&gt;\\n&lt;html lang=\"en\"&gt;&lt;head&gt;&lt;meta h...</td>\n",
       "      <td>benign</td>\n",
       "    </tr>\n",
       "    <tr>\n",
       "      <th>37</th>\n",
       "      <td>\\n\\n\\n\\t&lt;!DOCTYPE html&gt;\\n\\t&lt;html class=\"no-js\"...</td>\n",
       "      <td>benign</td>\n",
       "    </tr>\n",
       "    <tr>\n",
       "      <th>38</th>\n",
       "      <td>_x000D_\\n&lt;!DOCTYPE HTML&gt;_x000D_\\n&lt;html&gt;_x000D_...</td>\n",
       "      <td>benign</td>\n",
       "    </tr>\n",
       "    <tr>\n",
       "      <th>39</th>\n",
       "      <td>&lt;!DOCTYPE html&gt;\\n&lt;html&gt;\\n\\n&lt;head&gt;\\n  &lt;title&gt;Bu...</td>\n",
       "      <td>benign</td>\n",
       "    </tr>\n",
       "  </tbody>\n",
       "</table>\n",
       "</div>"
      ],
      "text/plain": [
       "                                            html_code       repu\n",
       "0   <!DOCTYPE html>\\n<!--[if lt IE 7]> <html lang=...  malicious\n",
       "1   \\n\\t\\n\\n\\n\\t\\n\\n\\t\\n\\n\\n\\t\\n\\n\\n\\t\\n\\n\\t\\n\\t\\t...  malicious\n",
       "2   <!DOCTYPE html>\\n<html lang=\"en\">\\n    <head>\\...  malicious\n",
       "3   <!DOCTYPE html><html lang=\"en\"><head><style da...  malicious\n",
       "4   <!DOCTYPE html>\\n\\n\\n    \\n    \\n    \\n    \\n ...  malicious\n",
       "5   _x000D_\\n_x000D_\\n_x000D_\\n<!DOCTYPE html>_x00...  malicious\n",
       "6   <!doctype html>\\n\\n<html data-ytrk-page=\"HOME\"...  malicious\n",
       "7   \\n\\t<!DOCTYPE html>\\n\\t<html class=\"no-icon-fo...  malicious\n",
       "8   <!DOCTYPE html>\\n<html class=\"no-js\">\\n<head>\\...  malicious\n",
       "9       <!DOCTYPE html>\\n<html class=\"b-header--bl...  malicious\n",
       "10  <!DOCTYPE html>\\n<html lang=\"mul\" dir=\"ltr\">\\n...  malicious\n",
       "11  _x000D_\\n_x000D_\\n<!DOCTYPE html><html lang=\"e...  malicious\n",
       "12  <!DOCTYPE html><html lang=\"en\"><head><link rel...  malicious\n",
       "13  <!Doctype html>_x000D_\\n<html> _x000D_\\n<head>...  malicious\n",
       "14  <html lang=\"en\">\\n\\n<head>\\n    <title>Verify ...  malicious\n",
       "15  <!doctype html><html dir=\"ltr\" lang=\"ko-KR\"><h...  malicious\n",
       "16  <HTML><HEAD>\\n<TITLE>Access Denied</TITLE>\\n</...  malicious\n",
       "17  <!doctype html>_x000D_\\n<html xmlns=\"http://ww...  malicious\n",
       "18  _x000D_\\n<!DOCTYPE html>_x000D_\\n_x000D_\\n<htm...  malicious\n",
       "19  <!DOCTYPE html><html lang=en><head><meta http-...  malicious\n",
       "20  <!DOCTYPE html><html lang=\"en\"><head><style da...     benign\n",
       "21  <!doctype html><html lang=\"en\"><head><title da...     benign\n",
       "22  <!DOCTYPE html>\\n<!--[if lt IE 8]>      <html ...     benign\n",
       "23  \\n<!DOCTYPE html>\\n<html id=\"js-context\" class...     benign\n",
       "24  <!DOCTYPE html><html class=\"no-js\"><head><meta...     benign\n",
       "25  _x000D_\\n_x000D_\\n_x000D_\\n<!DOCTYPE html>_x00...     benign\n",
       "26  <!DOCTYPE html>_x000D_\\n<html class=\" responsi...     benign\n",
       "27  <!DOCTYPE html><html lang=\"en\"><head><meta cha...     benign\n",
       "28  <!DOCTYPE html>\\n<html lang=\"en\" xmlns:og=\"htt...     benign\n",
       "29  \\n<!DOCTYPE HTML>\\n<html lang=\"ko-KR\" xml:lang...     benign\n",
       "30  <!DOCTYPE html>\\n<html lang=\"en\">\\n<head>\\n  <...     benign\n",
       "31  <!DOCTYPE html>\\n<html lang=\"pt-BR\"> <head><ti...     benign\n",
       "32  \\n<!DOCTYPE HTML>\\n\\n<html ng-app=\"usr\" class=...     benign\n",
       "33  <!DOCTYPE html>\\n<html lang=\"en\" dir=\"ltr\" dat...     benign\n",
       "34  <!DOCTYPE html><html lang=\"en\" itemscope=\"\" it...     benign\n",
       "35  \\n\\n\\n    <!DOCTYPE HTML>\\n    <html class=\"sp...     benign\n",
       "36  <!doctype html>\\n<html lang=\"en\"><head><meta h...     benign\n",
       "37  \\n\\n\\n\\t<!DOCTYPE html>\\n\\t<html class=\"no-js\"...     benign\n",
       "38  _x000D_\\n<!DOCTYPE HTML>_x000D_\\n<html>_x000D_...     benign\n",
       "39  <!DOCTYPE html>\\n<html>\\n\\n<head>\\n  <title>Bu...     benign"
      ]
     },
     "execution_count": 102,
     "metadata": {},
     "output_type": "execute_result"
    }
   ],
   "source": [
    "# 불러온 데이터를 확인합니다.\n",
    "df"
   ]
  },
  {
   "cell_type": "markdown",
   "metadata": {},
   "source": [
    "---\n",
    "# <b>Step 1. 데이터 수집\n",
    "\n",
    "### 주어진 데이터로만 모델링 하는 경우는 드뭅니다.\n",
    "### 주어진 데이터 외 추가로 데이터를 수집 또는 생성해야 하는 경우가 많습니다.\n",
    "### 이번 과정에서는 웹 크롤러를 통해 수집된 정상/악성 사이트 HTML 데이터에서\n",
    "### BeatifulSoup 라이브러리를 활용 필요한 Feature(특징)를 추출해 보도록 하겠습니다.\n",
    "### 정상/악성 사이트 HTML Code는 사전에 수집하여 'Feature Website.xlsx' 파일에 저장해 두었습니다.\n"
   ]
  },
  {
   "cell_type": "markdown",
   "metadata": {},
   "source": [
    "### <span style=\"color:blue\">[예시] Beatuifulsoup 라이브러리를 활용 HTML code를 출력하고 \\<title> 태그 길이를 계산합니다.<span>"
   ]
  },
  {
   "cell_type": "code",
   "execution_count": 103,
   "metadata": {},
   "outputs": [],
   "source": [
    "from bs4 import BeautifulSoup\n",
    "\n",
    "soup = BeautifulSoup(df['html_code'][0], 'html.parser')"
   ]
  },
  {
   "cell_type": "markdown",
   "metadata": {},
   "source": [
    "*<span style=\"color:blue\"> html code 출력<span>"
   ]
  },
  {
   "cell_type": "code",
   "execution_count": 104,
   "metadata": {
    "collapsed": true,
    "jupyter": {
     "outputs_hidden": true
    },
    "tags": []
   },
   "outputs": [
    {
     "name": "stdout",
     "output_type": "stream",
     "text": [
      "<!DOCTYPE html>\n",
      "\n",
      "<!--[if lt IE 7]> <html lang=\"en-us\" class=\"a-no-js a-lt-ie9 a-lt-ie8 a-lt-ie7\"> <![endif]-->\n",
      "<!--[if IE 7]>    <html lang=\"en-us\" class=\"a-no-js a-lt-ie9 a-lt-ie8\"> <![endif]-->\n",
      "<!--[if IE 8]>    <html lang=\"en-us\" class=\"a-no-js a-lt-ie9\"> <![endif]-->\n",
      "<!--[if gt IE 8]><!-->\n",
      "<html class=\"a-no-js\" lang=\"en-us\"><!--<![endif]--><head>\n",
      "<meta content=\"text/html; charset=utf-8\" http-equiv=\"content-type\"/>\n",
      "<meta charset=\"utf-8\"/>\n",
      "<meta content=\"IE=edge,chrome=1\" http-equiv=\"X-UA-Compatible\"/>\n",
      "<title dir=\"ltr\">Amazon.com</title>\n",
      "<meta content=\"width=device-width\" name=\"viewport\"/>\n",
      "<link href=\"https://images-na.ssl-images-amazon.com/images/G/01/AUIClients/AmazonUI-3c913031596ca78a3768f4e934b1cc02ce238101.secure.min._V1_.css\" rel=\"stylesheet\"/>\n",
      "<script>\n",
      "\n",
      "if (true === true) {\n",
      "    var ue_t0 = (+ new Date()),\n",
      "        ue_csm = window,\n",
      "        ue = { t0: ue_t0, d: function() { return (+new Date() - ue_t0); } },\n",
      "        ue_furl = \"fls-na.amazon.com\",\n",
      "        ue_mid = \"ATVPDKIKX0DER\",\n",
      "        ue_sid = (document.cookie.match(/session-id=([0-9-]+)/) || [])[1],\n",
      "        ue_sn = \"opfcaptcha.amazon.com\",\n",
      "        ue_id = 'BY6PY7346W2THV0MAFYZ';\n",
      "}\n",
      "</script>\n",
      "</head>\n",
      "<body>\n",
      "<!--\n",
      "        To discuss automated access to Amazon data please contact api-services-support@amazon.com.\n",
      "        For information about migrating to our APIs refer to our Marketplace APIs at https://developer.amazonservices.com/ref=rm_c_sv, or our Product Advertising API at https://affiliate-program.amazon.com/gp/advertising/api/detail/main.html/ref=rm_c_ac for advertising use cases.\n",
      "-->\n",
      "<!--\n",
      "Correios.DoNotSend\n",
      "-->\n",
      "<div class=\"a-container a-padding-double-large\" style=\"min-width:350px;padding:44px 0 !important\">\n",
      "<div class=\"a-row a-spacing-double-large\" style=\"width: 350px; margin: 0 auto\">\n",
      "<div class=\"a-row a-spacing-medium a-text-center\"><i class=\"a-icon a-logo\"></i></div>\n",
      "<div class=\"a-box a-alert a-alert-info a-spacing-base\">\n",
      "<div class=\"a-box-inner\">\n",
      "<i class=\"a-icon a-icon-alert\"></i>\n",
      "<h4>Enter the characters you see below</h4>\n",
      "<p class=\"a-last\">Sorry, we just need to make sure you're not a robot. For best results, please make sure your browser is accepting cookies.</p>\n",
      "</div>\n",
      "</div>\n",
      "<div class=\"a-section\">\n",
      "<div class=\"a-box a-color-offset-background\">\n",
      "<div class=\"a-box-inner a-padding-extra-large\">\n",
      "<form action=\"/errors/validateCaptcha\" method=\"get\" name=\"\">\n",
      "<input name=\"amzn\" type=\"hidden\" value=\"l4ZbaPUKjIME467w2sDxhg==\"/><input name=\"amzn-r\" type=\"hidden\" value=\"/\"/>\n",
      "<div class=\"a-row a-spacing-large\">\n",
      "<div class=\"a-box\">\n",
      "<div class=\"a-box-inner\">\n",
      "<h4>Type the characters you see in this image:</h4>\n",
      "<div class=\"a-row a-text-center\">\n",
      "<img src=\"https://images-na.ssl-images-amazon.com/captcha/wxvwzfzh/Captcha_tujfcmjndm.jpg\"/>\n",
      "</div>\n",
      "<div class=\"a-row a-spacing-base\">\n",
      "<div class=\"a-row\">\n",
      "<div class=\"a-column a-span6\">\n",
      "</div>\n",
      "<div class=\"a-column a-span6 a-span-last a-text-right\">\n",
      "<a onclick=\"window.location.reload()\">Try different image</a>\n",
      "</div>\n",
      "</div>\n",
      "<input autocapitalize=\"off\" autocomplete=\"off\" autocorrect=\"off\" class=\"a-span12\" id=\"captchacharacters\" name=\"field-keywords\" placeholder=\"Type characters\" spellcheck=\"false\" type=\"text\"/>\n",
      "</div>\n",
      "</div>\n",
      "</div>\n",
      "</div>\n",
      "<div class=\"a-section a-spacing-extra-large\">\n",
      "<div class=\"a-row\">\n",
      "<span class=\"a-button a-button-primary a-span12\">\n",
      "<span class=\"a-button-inner\">\n",
      "<button class=\"a-button-text\" type=\"submit\">Continue shopping</button>\n",
      "</span>\n",
      "</span>\n",
      "</div>\n",
      "</div>\n",
      "</form>\n",
      "</div>\n",
      "</div>\n",
      "</div>\n",
      "</div>\n",
      "<div class=\"a-divider a-divider-section\"><div class=\"a-divider-inner\"></div></div>\n",
      "<div class=\"a-text-center a-spacing-small a-size-mini\">\n",
      "<a href=\"https://www.amazon.com/gp/help/customer/display.html/ref=footer_cou?ie=UTF8&amp;nodeId=508088\">Conditions of Use</a>\n",
      "<span class=\"a-letter-space\"></span>\n",
      "<span class=\"a-letter-space\"></span>\n",
      "<span class=\"a-letter-space\"></span>\n",
      "<span class=\"a-letter-space\"></span>\n",
      "<a href=\"https://www.amazon.com/gp/help/customer/display.html/ref=footer_privacy?ie=UTF8&amp;nodeId=468496\">Privacy Policy</a>\n",
      "</div>\n",
      "<div class=\"a-text-center a-size-mini a-color-secondary\">\n",
      "          © 1996-2014, Amazon.com, Inc. or its affiliates\n",
      "          <script>\n",
      "           if (true === true) {\n",
      "             document.write('<img src=\"https://fls-na.amaz'+'on.com/'+'1/oc-csi/1/OP/requestId=BY6PY7346W2THV0MAFYZ&js=1\" />');\n",
      "           };\n",
      "          </script>\n",
      "<noscript>\n",
      "<img src=\"https://fls-na.amazon.com/1/oc-csi/1/OP/requestId=BY6PY7346W2THV0MAFYZ&amp;js=0\">\n",
      "</img></noscript>\n",
      "</div>\n",
      "</div>\n",
      "<script>\n",
      "    if (true === true) {\n",
      "        var head = document.getElementsByTagName('head')[0],\n",
      "            prefix = \"https://images-na.ssl-images-amazon.com/images/G/01/csminstrumentation/\",\n",
      "            elem = document.createElement(\"script\");\n",
      "        elem.src = prefix + \"csm-captcha-instrumentation.min.js\";\n",
      "        head.appendChild(elem);\n",
      "\n",
      "        elem = document.createElement(\"script\");\n",
      "        elem.src = prefix + \"rd-script-6d68177fa6061598e9509dc4b5bdd08d.js\";\n",
      "        head.appendChild(elem);\n",
      "    }\n",
      "    </script>\n",
      "</body></html>\n",
      "\n"
     ]
    }
   ],
   "source": [
    "print(soup)"
   ]
  },
  {
   "cell_type": "markdown",
   "metadata": {},
   "source": [
    "* <span style=\"color:blue\"> \\<title> 태그 출력 및 길이 계산<span>"
   ]
  },
  {
   "cell_type": "code",
   "execution_count": 105,
   "metadata": {},
   "outputs": [
    {
     "name": "stdout",
     "output_type": "stream",
     "text": [
      "* title : <title dir=\"ltr\">Amazon.com</title>\n",
      "* title 길이 : 10\n"
     ]
    }
   ],
   "source": [
    "# <title> 태그 출력\n",
    "print(\"* title :\",soup.head.title)\n",
    "\n",
    "# <title> 태그 길이 출력\n",
    "print(\"* title 길이 :\", len(str(soup.head.title.getText())))"
   ]
  },
  {
   "cell_type": "code",
   "execution_count": 132,
   "metadata": {
    "collapsed": true,
    "jupyter": {
     "outputs_hidden": true
    },
    "tags": []
   },
   "outputs": [
    {
     "name": "stdout",
     "output_type": "stream",
     "text": [
      "* title : <title dir=\"ltr\">Amazon.com</title>\n",
      "* title 길이 : 10\n",
      "* title : <title>Apple</title>\n",
      "* title 길이 : 5\n",
      "* title : <title>Dictionary by Merriam-Webster: America's most-trusted online dictionary</title>\n",
      "* title 길이 : 71\n",
      "* title : <title>LinkedIn: Log In or Sign Up</title>\n",
      "* title 길이 : 27\n",
      "* title : <title>Microsoft 공식 홈페이지</title>\n",
      "* title 길이 : 17\n",
      "* title : <title>Encyclopedia Britannica | Britannica</title>\n",
      "* title 길이 : 36\n",
      "* title : <title>ESPN: Serving sports fans. Anytime. Anywhere.</title>\n",
      "* title 길이 : 45\n",
      "* title : <title>craigslist: seoul jobs, apartments, for sale, services, community, and events</title>\n",
      "* title 길이 : 77\n",
      "* title : <title>BBC - Homepage</title>\n",
      "* title 길이 : 14\n",
      "* title : <title>Wiktionary</title>\n",
      "* title 길이 : 10\n",
      "* title : <title itemprop=\"name\">Live Cricket Score, Schedule, Latest News, Stats &amp; Videos | Cricbuzz.com</title>\n",
      "* title 길이 : 72\n",
      "* title : <title>Check Live Cricket Scores, Match Schedules, News, Cricket Videos Online | ESPNcricinfo.com</title>\n",
      "* title 길이 : 90\n",
      "* title : <title>Dictionary, Encyclopedia and Thesaurus - The Free Dictionary</title>\n",
      "* title 길이 : 60\n",
      "* title : <title>Verify your identity</title>\n",
      "* title 길이 : 20\n",
      "* title : <title data-react-helmet=\"true\">서울 일기예보 및 날씨 - The Weather Channel | Weather.com</title>\n",
      "* title 길이 : 48\n",
      "* title : <title>Access Denied</title>\n",
      "* title 길이 : 13\n",
      "* title : <title>GSMArena.com - mobile phone reviews, news, specifications and more...</title>\n",
      "* title 길이 : 69\n",
      "* title : <title>_x000D_\n",
      "        Mayo Clinic - Mayo Clinic</title>\n",
      "* title 길이 : 41\n",
      "* title : <title>timeanddate.com</title>\n",
      "* title 길이 : 15\n",
      "* title : <title data-rh=\"true\">Trending stories on Indian Lifestyle, Culture, Relationships, Food, Travel, Entertainment, News and New Technology News - Indiatimes.com</title>\n",
      "* title 길이 : 136\n",
      "* title : <title>About Facebook</title>\n",
      "* title 길이 : 14\n",
      "* title : <title>News, sport and opinion from the Guardian's global edition | The Guardian</title>\n",
      "* title 길이 : 73\n",
      "* title : <title>CNN International - Breaking News, US News, World News and Video</title>\n",
      "* title 길이 : 64\n",
      "* title : <title>Roblox</title>\n",
      "* title 길이 : 6\n",
      "* title : <title>Welcome to Steam</title>\n",
      "* title 길이 : 16\n",
      "* title : <title>Domino's Home Page - Domino's Pizza, Order Pizza Online for Delivery - Dominos.com</title>\n",
      "* title 길이 : 82\n",
      "* title : <title>Product reviews, how-tos, deals and the latest tech news - CNET</title>\n",
      "* title 길이 : 63\n",
      "* title : <title>PlayStation® 공식 사이트: 콘솔, 게임, 액세서리 등</title>\n",
      "* title 길이 : 35\n",
      "* title : <title>Speedtest by Ookla - The Global Broadband Speed Test</title>\n",
      "* title 길이 : 52\n",
      "* title : <title>globo.com - Absolutamente tudo sobre notícias, esportes e entretenimento</title>\n",
      "* title 길이 : 72\n",
      "* title : <title>McDonald's: Burgers, Fries &amp; More. Quality Ingredients.</title>\n",
      "* title 길이 : 55\n",
      "* title : <title>TechRadar | The source for tech buying advice</title>\n",
      "* title 길이 : 45\n",
      "* title : <title>Local Weather Forecast, News and Conditions | Weather Underground</title>\n",
      "* title 길이 : 65\n",
      "* title : <title>Adobe: Creative, marketing and document management solutions</title>\n",
      "* title 길이 : 60\n",
      "* title : <title>Recipe Ideas, Product Reviews, Home Decor Inspiration, and  Beauty Tips - Good Housekeeping</title>\n",
      "* title 길이 : 91\n",
      "* title : <title>_x000D_\n",
      "\tReverso | Free online translation, dictionary_x000D_\n",
      "</title>\n",
      "* title 길이 : 62\n",
      "* title : <title>Business Insider</title>\n",
      "* title 길이 : 16\n"
     ]
    }
   ],
   "source": [
    "lst_len_title = []\n",
    "\n",
    "for i in range(len(df)):\n",
    "    soup = BeautifulSoup(df['html_code'][i], 'html.parser')\n",
    "    if soup.head.title == None:\n",
    "        lst_len_title.append(0)\n",
    "    else:\n",
    "        # <title> 태그 출력\n",
    "        print(\"* title :\",soup.head.title)\n",
    "        \n",
    "        # <title> 태그 길이 출력\n",
    "        print(\"* title 길이 :\", len(str(soup.head.title.getText())))\n",
    "        lst_len_title.append(len(str(soup.head.title.getText())))"
   ]
  },
  {
   "cell_type": "code",
   "execution_count": 133,
   "metadata": {
    "tags": []
   },
   "outputs": [
    {
     "name": "stdout",
     "output_type": "stream",
     "text": [
      "[10, 5, 71, 0, 27, 17, 36, 45, 77, 14, 10, 72, 90, 60, 20, 48, 13, 69, 41, 15, 0, 136, 14, 73, 64, 6, 16, 82, 63, 35, 52, 72, 55, 45, 65, 60, 0, 91, 62, 16]\n"
     ]
    }
   ],
   "source": [
    "print(lst_len_title)"
   ]
  },
  {
   "cell_type": "markdown",
   "metadata": {},
   "source": [
    "---"
   ]
  },
  {
   "cell_type": "markdown",
   "metadata": {},
   "source": [
    "## <b>Q2. html 에서 \\<script>...\\</script> 태그 길이 계산\n",
    "- BeautifulSoup으로 html소스를 python 객체로 변환\n",
    "- 함수로 구현하기\n",
    "- float으로 return 받기"
   ]
  },
  {
   "cell_type": "markdown",
   "metadata": {},
   "source": [
    "### <span style=\"color:darkred\">[문제2] Beatuifulsoup 라이브러리를 활용 HTML code에서 \\<script> 태그 길이를 계산하는 함수를 완성하고 결과를 확인하세요.<span>"
   ]
  },
  {
   "cell_type": "code",
   "execution_count": 127,
   "metadata": {
    "tags": []
   },
   "outputs": [],
   "source": [
    "# Feature(특징) 데이터를 추출하는 함수를 작성합니다.\n",
    "lst_script = []\n",
    "\n",
    "for i in range(len(df)):\n",
    "    tmp = []\n",
    "    soup = BeautifulSoup(df[\"html_code\"][i], \"html.parser\")\n",
    "    scripts = soup.find_all(\"script\")\n",
    "    for j in range(len(scripts)):\n",
    "        #각 행마다 있는 script 공백 제거 후 태그 길이 추가\n",
    "        tmp.append(len(scripts[j].getText().replace(\" \",\"\")))\n",
    "    lst_script.append(sum(tmp))\n",
    "df[\"script_len\"] = lst_script\n",
    "# print(lst_script)"
   ]
  },
  {
   "cell_type": "code",
   "execution_count": 114,
   "metadata": {
    "collapsed": true,
    "jupyter": {
     "outputs_hidden": true
    },
    "tags": []
   },
   "outputs": [
    {
     "data": {
      "text/plain": [
       "[874.0,\n",
       " 946.0,\n",
       " 9247.0,\n",
       " 0.0,\n",
       " 312.0,\n",
       " 3166.0,\n",
       " 22907.0,\n",
       " 23647.0,\n",
       " 1022.0,\n",
       " 13684.0,\n",
       " 158.0,\n",
       " 2039.0,\n",
       " 10338.0,\n",
       " 4092.0,\n",
       " 896.0,\n",
       " 8871.0,\n",
       " 0.0,\n",
       " 2519.0,\n",
       " 926.0,\n",
       " 3045.0,\n",
       " 0.0,\n",
       " 0.0,\n",
       " 9079.0,\n",
       " 713.0,\n",
       " 165.0,\n",
       " 19361.0,\n",
       " 3172.0,\n",
       " 122.0,\n",
       " 18471.0,\n",
       " 9175.0,\n",
       " 27413.0,\n",
       " 4298.0,\n",
       " 649.0,\n",
       " 19884.0,\n",
       " 0.0,\n",
       " 9277.0,\n",
       " 0.0,\n",
       " 0.0,\n",
       " 3828.0,\n",
       " 19145.0]"
      ]
     },
     "execution_count": 114,
     "metadata": {},
     "output_type": "execute_result"
    }
   ],
   "source": [
    "# def html_script_characters(soup):\n",
    "#     return float(sum(map(lambda x: len(str(x).replace(\" \",\"\")) if x is not None else 0, list(soup.find_all(\"script\")))))\n",
    "# # 데이터 프레임의 html_code 컬럼에서 Feature(특징) 데이터를 추출합니다.\n",
    "# script_len = []\n",
    "# for index, row in df.iterrows():\n",
    "#     soup = BeautifulSoup(row.html_code, \"html.parser\")\n",
    "#     script_len.append(html_script_characters(soup))\n",
    "# # df[\"html_script_characters\"] = script_len\n",
    "# script_len"
   ]
  },
  {
   "cell_type": "code",
   "execution_count": 5,
   "metadata": {},
   "outputs": [],
   "source": [
    "# 추출한 Feature(특징) 데이터를 확인합니다.\n",
    "\n"
   ]
  },
  {
   "cell_type": "markdown",
   "metadata": {},
   "source": [
    "---"
   ]
  },
  {
   "cell_type": "markdown",
   "metadata": {},
   "source": [
    "## <b>Q3. html에서 공백 수 계산\n",
    "\n",
    "- BeautifulSoup으로 html소스를 python 객체로 변환\n",
    "- 함수로 구현하기\n",
    "- float으로 return 받기"
   ]
  },
  {
   "cell_type": "markdown",
   "metadata": {},
   "source": [
    "### <span style=\"color:darkred\">[문제3] Beatuifulsoup 라이브러리를 활용 HTML Code에서 \\<html> 태그 공백 수를 계산하는 함수를 완성하고 결과를 확인하세요.<span>"
   ]
  },
  {
   "cell_type": "code",
   "execution_count": 137,
   "metadata": {},
   "outputs": [
    {
     "name": "stdout",
     "output_type": "stream",
     "text": [
      "<!DOCTYPE html>\n",
      "\n",
      "<!--[if lt IE 7]> <html lang=\"en-us\" class=\"a-no-js a-lt-ie9 a-lt-ie8 a-lt-ie7\"> <![endif]-->\n",
      "<!--[if IE 7]>    <html lang=\"en-us\" class=\"a-no-js a-lt-ie9 a-lt-ie8\"> <![endif]-->\n",
      "<!--[if IE 8]>    <html lang=\"en-us\" class=\"a-no-js a-lt-ie9\"> <![endif]-->\n",
      "<!--[if gt IE 8]><!-->\n",
      "<html class=\"a-no-js\" lang=\"en-us\"><!--<![endif]--><head>\n",
      "<meta content=\"text/html; charset=utf-8\" http-equiv=\"content-type\"/>\n",
      "<meta charset=\"utf-8\"/>\n",
      "<meta content=\"IE=edge,chrome=1\" http-equiv=\"X-UA-Compatible\"/>\n",
      "<title dir=\"ltr\">Amazon.com</title>\n",
      "<meta content=\"width=device-width\" name=\"viewport\"/>\n",
      "<link href=\"https://images-na.ssl-images-amazon.com/images/G/01/AUIClients/AmazonUI-3c913031596ca78a3768f4e934b1cc02ce238101.secure.min._V1_.css\" rel=\"stylesheet\"/>\n",
      "<script>\n",
      "\n",
      "if (true === true) {\n",
      "    var ue_t0 = (+ new Date()),\n",
      "        ue_csm = window,\n",
      "        ue = { t0: ue_t0, d: function() { return (+new Date() - ue_t0); } },\n",
      "        ue_furl = \"fls-na.amazon.com\",\n",
      "        ue_mid = \"ATVPDKIKX0DER\",\n",
      "        ue_sid = (document.cookie.match(/session-id=([0-9-]+)/) || [])[1],\n",
      "        ue_sn = \"opfcaptcha.amazon.com\",\n",
      "        ue_id = 'BY6PY7346W2THV0MAFYZ';\n",
      "}\n",
      "</script>\n",
      "</head>\n",
      "<body>\n",
      "<!--\n",
      "        To discuss automated access to Amazon data please contact api-services-support@amazon.com.\n",
      "        For information about migrating to our APIs refer to our Marketplace APIs at https://developer.amazonservices.com/ref=rm_c_sv, or our Product Advertising API at https://affiliate-program.amazon.com/gp/advertising/api/detail/main.html/ref=rm_c_ac for advertising use cases.\n",
      "-->\n",
      "<!--\n",
      "Correios.DoNotSend\n",
      "-->\n",
      "<div class=\"a-container a-padding-double-large\" style=\"min-width:350px;padding:44px 0 !important\">\n",
      "<div class=\"a-row a-spacing-double-large\" style=\"width: 350px; margin: 0 auto\">\n",
      "<div class=\"a-row a-spacing-medium a-text-center\"><i class=\"a-icon a-logo\"></i></div>\n",
      "<div class=\"a-box a-alert a-alert-info a-spacing-base\">\n",
      "<div class=\"a-box-inner\">\n",
      "<i class=\"a-icon a-icon-alert\"></i>\n",
      "<h4>Enter the characters you see below</h4>\n",
      "<p class=\"a-last\">Sorry, we just need to make sure you're not a robot. For best results, please make sure your browser is accepting cookies.</p>\n",
      "</div>\n",
      "</div>\n",
      "<div class=\"a-section\">\n",
      "<div class=\"a-box a-color-offset-background\">\n",
      "<div class=\"a-box-inner a-padding-extra-large\">\n",
      "<form action=\"/errors/validateCaptcha\" method=\"get\" name=\"\">\n",
      "<input name=\"amzn\" type=\"hidden\" value=\"l4ZbaPUKjIME467w2sDxhg==\"/><input name=\"amzn-r\" type=\"hidden\" value=\"/\"/>\n",
      "<div class=\"a-row a-spacing-large\">\n",
      "<div class=\"a-box\">\n",
      "<div class=\"a-box-inner\">\n",
      "<h4>Type the characters you see in this image:</h4>\n",
      "<div class=\"a-row a-text-center\">\n",
      "<img src=\"https://images-na.ssl-images-amazon.com/captcha/wxvwzfzh/Captcha_tujfcmjndm.jpg\"/>\n",
      "</div>\n",
      "<div class=\"a-row a-spacing-base\">\n",
      "<div class=\"a-row\">\n",
      "<div class=\"a-column a-span6\">\n",
      "</div>\n",
      "<div class=\"a-column a-span6 a-span-last a-text-right\">\n",
      "<a onclick=\"window.location.reload()\">Try different image</a>\n",
      "</div>\n",
      "</div>\n",
      "<input autocapitalize=\"off\" autocomplete=\"off\" autocorrect=\"off\" class=\"a-span12\" id=\"captchacharacters\" name=\"field-keywords\" placeholder=\"Type characters\" spellcheck=\"false\" type=\"text\"/>\n",
      "</div>\n",
      "</div>\n",
      "</div>\n",
      "</div>\n",
      "<div class=\"a-section a-spacing-extra-large\">\n",
      "<div class=\"a-row\">\n",
      "<span class=\"a-button a-button-primary a-span12\">\n",
      "<span class=\"a-button-inner\">\n",
      "<button class=\"a-button-text\" type=\"submit\">Continue shopping</button>\n",
      "</span>\n",
      "</span>\n",
      "</div>\n",
      "</div>\n",
      "</form>\n",
      "</div>\n",
      "</div>\n",
      "</div>\n",
      "</div>\n",
      "<div class=\"a-divider a-divider-section\"><div class=\"a-divider-inner\"></div></div>\n",
      "<div class=\"a-text-center a-spacing-small a-size-mini\">\n",
      "<a href=\"https://www.amazon.com/gp/help/customer/display.html/ref=footer_cou?ie=UTF8&amp;nodeId=508088\">Conditions of Use</a>\n",
      "<span class=\"a-letter-space\"></span>\n",
      "<span class=\"a-letter-space\"></span>\n",
      "<span class=\"a-letter-space\"></span>\n",
      "<span class=\"a-letter-space\"></span>\n",
      "<a href=\"https://www.amazon.com/gp/help/customer/display.html/ref=footer_privacy?ie=UTF8&amp;nodeId=468496\">Privacy Policy</a>\n",
      "</div>\n",
      "<div class=\"a-text-center a-size-mini a-color-secondary\">\n",
      "          © 1996-2014, Amazon.com, Inc. or its affiliates\n",
      "          <script>\n",
      "           if (true === true) {\n",
      "             document.write('<img src=\"https://fls-na.amaz'+'on.com/'+'1/oc-csi/1/OP/requestId=BY6PY7346W2THV0MAFYZ&js=1\" />');\n",
      "           };\n",
      "          </script>\n",
      "<noscript>\n",
      "<img src=\"https://fls-na.amazon.com/1/oc-csi/1/OP/requestId=BY6PY7346W2THV0MAFYZ&amp;js=0\">\n",
      "</img></noscript>\n",
      "</div>\n",
      "</div>\n",
      "<script>\n",
      "    if (true === true) {\n",
      "        var head = document.getElementsByTagName('head')[0],\n",
      "            prefix = \"https://images-na.ssl-images-amazon.com/images/G/01/csminstrumentation/\",\n",
      "            elem = document.createElement(\"script\");\n",
      "        elem.src = prefix + \"csm-captcha-instrumentation.min.js\";\n",
      "        head.appendChild(elem);\n",
      "\n",
      "        elem = document.createElement(\"script\");\n",
      "        elem.src = prefix + \"rd-script-6d68177fa6061598e9509dc4b5bdd08d.js\";\n",
      "        head.appendChild(elem);\n",
      "    }\n",
      "    </script>\n",
      "</body></html>\n",
      "\n"
     ]
    }
   ],
   "source": [
    "# Feature(특징) 데이터를 추출하는 함수를 작성합니다.\n",
    "lst_html_space = []\n",
    "soup = BeautifulSoup(df[\"html_code\"][0], \"html.parser\")\n",
    "print(soup)\n",
    "# for i in range(len(df)):\n",
    "#     tmp = []\n",
    "#     soup = BeautifulSoup(df[\"html_code\"][i], \"html.parser\")\n",
    "#     scripts = soup.find_all(\"html\")\n",
    "#     for j in range(len(scripts)):\n",
    "#         print(scripts[i])\n",
    "        # if \n",
    "        # #각 행마다 있는 script 태그 길이 추가\n",
    "        # tmp.append(len(scripts[j].getText().count(\" \")))\n",
    "        # print(tmp)\n",
    "    # lst_html_space.append(tmp)"
   ]
  },
  {
   "cell_type": "code",
   "execution_count": null,
   "metadata": {},
   "outputs": [],
   "source": []
  },
  {
   "cell_type": "code",
   "execution_count": 115,
   "metadata": {},
   "outputs": [],
   "source": [
    "# Feature(특징) 데이터를 추출하는 함수를 작성합니다.\n",
    "def html_num_whitespace(soup):\n",
    "    try:\n",
    "        #soup > body > text > count\n",
    "        NullCount = soup.body.text.count(\" \")\n",
    "        return float(NullCount)\n",
    "    except:\n",
    "        return 0.0"
   ]
  },
  {
   "cell_type": "code",
   "execution_count": 135,
   "metadata": {},
   "outputs": [
    {
     "name": "stdout",
     "output_type": "stream",
     "text": [
      "[65.0, 87.0, 190.0, 0.0, 1802.0, 0.0, 153.0, 0.0, 86.0, 0.0, 116.0, 163.0, 0.0, 219.0, 56.0, 0.0, 12.0, 777.0, 3736.0, 226.0, 0.0, 0.0, 44.0, 0.0, 0.0, 0.0, 93.0, 68.0, 0.0, 48.0, 0.0, 0.0, 199.0, 0.0, 0.0, 0.0, 0.0, 0.0, 4166.0, 0.0]\n"
     ]
    }
   ],
   "source": [
    "# 데이터 프레임의 html_code 컬럼에서 Feature(특징) 데이터를 추출합니다.\n",
    "num_whitespace = []\n",
    "for index, row in df.iterrows():\n",
    "    soup = BeautifulSoup(row.html_code, \"html.parser\")\n",
    "    num_whitespace.append(html_num_whitespace(soup))\n",
    "print(num_whitespace)\n",
    "# df[\"html_num_whitespace\"] = num_whitespace"
   ]
  },
  {
   "cell_type": "code",
   "execution_count": 8,
   "metadata": {},
   "outputs": [],
   "source": [
    "# 추출한 Feature(특징) 데이터를 확인합니다.\n"
   ]
  },
  {
   "cell_type": "markdown",
   "metadata": {},
   "source": [
    "---"
   ]
  },
  {
   "cell_type": "markdown",
   "metadata": {},
   "source": [
    "## <b>Q4. html 에서 body 길이 계산\n",
    "\n",
    "- BeautifulSoup으로 html소스를 python 객체로 변환\n",
    "- 함수로 구현하기\n",
    "- float으로 return 받기"
   ]
  },
  {
   "cell_type": "markdown",
   "metadata": {},
   "source": [
    "### <span style=\"color:darkred\">[문제4] Beatuifulsoup 라이브러리를 활용 HTML code에서 \\<body> 태그 길이를 계산하는 함수를 완성하고 결과를 확인하세요.<span>"
   ]
  },
  {
   "cell_type": "code",
   "execution_count": 117,
   "metadata": {},
   "outputs": [],
   "source": [
    "# Feature(특징) 데이터를 추출하는 함수를 작성합니다.\n",
    "def html_num_characters(soup):\n",
    "    try:\n",
    "        #soup > body > text\n",
    "        bodyLen = len(soup.body.text)\n",
    "        return float(bodyLen)\n",
    "    except:\n",
    "        return 0.0"
   ]
  },
  {
   "cell_type": "code",
   "execution_count": 118,
   "metadata": {},
   "outputs": [],
   "source": [
    "# 데이터 프레임의 html_code 컬럼에서 Feature(특징) 데이터를 추출합니다.\n",
    "html_body = []\n",
    "for index, row in df.iterrows():\n",
    "    soup = BeautifulSoup(row.html_code, \"html.parser\")\n",
    "    html_body.append(html_num_characters(soup))\n",
    "# df[\"html_body_len\"] = html_body"
   ]
  },
  {
   "cell_type": "code",
   "execution_count": 14,
   "metadata": {},
   "outputs": [],
   "source": [
    "# 추출한 Feature(특징) 데이터를 확인합니다.\n",
    "\n"
   ]
  },
  {
   "cell_type": "markdown",
   "metadata": {},
   "source": [
    "---"
   ]
  },
  {
   "cell_type": "markdown",
   "metadata": {},
   "source": [
    "## <b>Q5. script 에서 src, href 속성을 가진 태그수\n",
    "\n",
    "- BeautifulSoup으로 html소스를 python 객체로 변환\n",
    "- 함수로 구현하기\n",
    "- float으로 return 받기"
   ]
  },
  {
   "cell_type": "markdown",
   "metadata": {},
   "source": [
    "### <span style=\"color:darkred\">[문제5] Beatuifulsoup 라이브러리를 활용 HTML code에서 \\<script> 태그에서 src, href 속성을 가진 태그수를 계산하는 함수를 완성하고 결과를 확인하세요. <span>\n"
   ]
  },
  {
   "cell_type": "code",
   "execution_count": 120,
   "metadata": {},
   "outputs": [],
   "source": [
    "# Feature(특징) 데이터를 추출하는 함수를 작성합니다.\n",
    "def html_link_in_script(soup):\n",
    "    numOfLinks = len(soup.findAll(\"script\", {\"src\": True}))\n",
    "    numOfLinks += len(soup.findAll(\"script\", {\"href\": True}))\n",
    "    return float(numOfLinks)"
   ]
  },
  {
   "cell_type": "code",
   "execution_count": 121,
   "metadata": {},
   "outputs": [],
   "source": [
    "# 데이터 프레임의 html_code 컬럼에서 Feature(특징) 데이터를 추출합니다\n",
    "html_script_link_num = []\n",
    "for index, row in df.iterrows():\n",
    "    soup = BeautifulSoup(row.html_code, \"html.parser\")\n",
    "    html_script_link_num.append(html_link_in_script(soup))\n",
    "# df[\"html_script_link_num\"] = html_script_link_num"
   ]
  },
  {
   "cell_type": "code",
   "execution_count": 1,
   "metadata": {},
   "outputs": [],
   "source": [
    "# 추출한 Feature(특징) 데이터를 확인합니다.\n",
    "\n"
   ]
  },
  {
   "cell_type": "markdown",
   "metadata": {},
   "source": [
    "## <b>Q6. 추가적으로 도출 가능한 Feature\n",
    "\n",
    "- BeautifulSoup으로 html소스를 python 객체로 변환\n",
    "- 함수로 구현하기\n",
    "- 적절한 자료형으로 return 받기"
   ]
  },
  {
   "cell_type": "markdown",
   "metadata": {},
   "source": [
    "### <span style=\"color:darkred\">[문제6] Beatuifulsoup 라이브러리를 활용 HTML code에서 추가로 만들수 있는 Feature를 찾아보고 결과를 확인하세요. <span>\n"
   ]
  },
  {
   "cell_type": "code",
   "execution_count": 12,
   "metadata": {},
   "outputs": [],
   "source": [
    "# Feature(특징) 데이터를 추출하는 함수를 작성합니다.\n"
   ]
  },
  {
   "cell_type": "code",
   "execution_count": null,
   "metadata": {},
   "outputs": [],
   "source": [
    "# 데이터 프레임의 html_code 컬럼에서 Feature(특징) 데이터를 추출합니다\n"
   ]
  },
  {
   "cell_type": "code",
   "execution_count": null,
   "metadata": {},
   "outputs": [],
   "source": [
    "# 추출한 Feature(특징) 데이터를 확인합니다.\n",
    "\n"
   ]
  }
 ],
 "metadata": {
  "kernelspec": {
   "display_name": "Python 3 (ipykernel)",
   "language": "python",
   "name": "python3"
  },
  "language_info": {
   "codemirror_mode": {
    "name": "ipython",
    "version": 3
   },
   "file_extension": ".py",
   "mimetype": "text/x-python",
   "name": "python",
   "nbconvert_exporter": "python",
   "pygments_lexer": "ipython3",
   "version": "3.9.13"
  },
  "vscode": {
   "interpreter": {
    "hash": "f08154012ddadd8e950e6e9e035c7a7b32c136e7647e9b7c77e02eb723a8bedb"
   }
  }
 },
 "nbformat": 4,
 "nbformat_minor": 4
}
